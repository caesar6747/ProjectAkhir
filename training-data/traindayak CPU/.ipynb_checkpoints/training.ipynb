{
 "cells": [
  {
   "cell_type": "code",
   "execution_count": 64,
   "metadata": {
    "colab": {
     "base_uri": "https://localhost:8080/",
     "height": 51
    },
    "colab_type": "code",
    "id": "b6ZIUpwFih7a",
    "outputId": "3f00b5c8-d94c-4f2b-c0a4-0d80a4b9224a"
   },
   "outputs": [
    {
     "data": {
      "text/plain": [
       "\"\\nfrom google.colab import drive\\ndrive.mount('/gdrive')\\n%cd /gdrive\\n\""
      ]
     },
     "execution_count": 64,
     "metadata": {},
     "output_type": "execute_result"
    }
   ],
   "source": [
    "'''\n",
    "from google.colab import drive\n",
    "drive.mount('/gdrive')\n",
    "%cd /gdrive\n",
    "'''"
   ]
  },
  {
   "cell_type": "code",
   "execution_count": 65,
   "metadata": {
    "colab": {},
    "colab_type": "code",
    "id": "qQ7C1ecfiqcI"
   },
   "outputs": [],
   "source": [
    "import string\n",
    "import re\n",
    "import pickle\n",
    "from numpy import array, argmax, random, take\n",
    "import numpy as np\n",
    "import pandas as pd\n",
    "import tensorflow as tf\n",
    "#from tensorflow import keras\n",
    "from tensorflow.keras.layers import Dense, GRU, Embedding\n",
    "from tensorflow.compat.v1.keras.layers import CuDNNGRU\n",
    "from tensorflow.keras.preprocessing.text import Tokenizer\n",
    "from tensorflow.keras.callbacks import ModelCheckpoint\n",
    "#from keras.preprocessing.sequence import pad_sequences\n",
    "from tensorflow.keras.preprocessing.sequence import pad_sequences\n",
    "from tensorflow.keras import optimizers\n",
    "import matplotlib.pyplot as plt\n",
    "from sklearn.model_selection import train_test_split\n",
    "%matplotlib inline\n",
    "import unicodedata\n",
    "import io\n",
    "import os\n",
    "import time"
   ]
  },
  {
   "cell_type": "code",
   "execution_count": 66,
   "metadata": {
    "colab": {},
    "colab_type": "code",
    "id": "o88uz_9kmSxS"
   },
   "outputs": [],
   "source": [
    "#path_to_file = '/content/fra1.txt'\n",
    "#path_to_file = '/content/drive/My Drive/Colab Notebooks/fra1.txt'\n",
    "path_to_file = 'dayak.txt'"
   ]
  },
  {
   "cell_type": "code",
   "execution_count": 67,
   "metadata": {
    "colab": {},
    "colab_type": "code",
    "id": "7OB9IkJCm75L"
   },
   "outputs": [],
   "source": [
    "def unicode_to_acii(s):\n",
    "  return ''.join(c for c in unicodedata.normalize('NFD', s)\n",
    "        if unicodedata.category(c) != 'Mn')"
   ]
  },
  {
   "cell_type": "code",
   "execution_count": 68,
   "metadata": {
    "colab": {},
    "colab_type": "code",
    "id": "itS-QoVznJ64"
   },
   "outputs": [],
   "source": [
    "def preprocess_sentence(w):\n",
    "  w = unicode_to_acii(w.lower().strip())\n",
    "  w = re.sub(r\"([?.!,¿])\", r\" \\1 \", w)\n",
    "  w = re.sub(r'[\" \"]+', \" \", w)\n",
    "  w = re.sub(r\"[^a-zA-Z?.!,¿]+\", \" \", w)\n",
    "  w = w.strip()\n",
    "  w = '<start> ' + w + ' <end>'\n",
    "  return w"
   ]
  },
  {
   "cell_type": "code",
   "execution_count": 69,
   "metadata": {
    "colab": {
     "base_uri": "https://localhost:8080/",
     "height": 51
    },
    "colab_type": "code",
    "id": "RXJryIzrr_-s",
    "outputId": "ce3f3d99-96a0-4c55-a365-eaf9b1a47a42"
   },
   "outputs": [
    {
     "name": "stdout",
     "output_type": "stream",
     "text": [
      "<start> may i borrow this book ? <end>\n",
      "b'<start> puis je emprunter ce livre ? <end>'\n"
     ]
    }
   ],
   "source": [
    "en_sentence = u\"May I borrow this book?\"\n",
    "fr_sentence = u\"Puis-je emprunter ce livre?\"\n",
    "print(preprocess_sentence(en_sentence))\n",
    "print(preprocess_sentence(fr_sentence).encode('utf-8'))"
   ]
  },
  {
   "cell_type": "code",
   "execution_count": 70,
   "metadata": {
    "colab": {},
    "colab_type": "code",
    "id": "YWrJ3arQtBpY"
   },
   "outputs": [],
   "source": [
    "def create_dataset(path, num_examples):\n",
    "  lines = io.open(path, encoding='UTF-8').read().strip().split('\\n')\n",
    "\n",
    "  word_pairs = [[preprocess_sentence(w) for w in l.split('\\t')]  for l in lines[:num_examples]]\n",
    "\n",
    "  return zip(*word_pairs)"
   ]
  },
  {
   "cell_type": "code",
   "execution_count": 71,
   "metadata": {
    "colab": {
     "base_uri": "https://localhost:8080/",
     "height": 71
    },
    "colab_type": "code",
    "id": "uSPFRdBIt9eM",
    "outputId": "6b9c77bc-1a71-4aaa-b51c-2782379e7488"
   },
   "outputs": [
    {
     "name": "stdout",
     "output_type": "stream",
     "text": [
      "<start> apa kabar <end>\n",
      "<start> narai kabar <end>\n",
      "====\n",
      "<start> apa katanya <end>\n",
      "<start> narai kua <end>\n",
      "====\n",
      "<start> aku pulang <end>\n",
      "<start> aku buli <end>\n",
      "====\n",
      "<start> aku sedang belajar <end>\n",
      "<start> aku lagih belajar <end>\n",
      "====\n",
      "<start> aku mau makan <end>\n",
      "<start> aku handak kuman <end>\n",
      "====\n",
      "<start> aku datang <end>\n",
      "<start> aku dumah <end>\n",
      "====\n",
      "<start> aku pergi <end>\n",
      "<start> aku tulak <end>\n",
      "====\n",
      "<start> aku sudah menjawab pertanyaan <end>\n",
      "<start> aku jadi manjawab pertanyaan <end>\n",
      "====\n",
      "<start> aku suka kamu <end>\n",
      "<start> aku handak dengam <end>\n",
      "====\n"
     ]
    }
   ],
   "source": [
    "en, fr = create_dataset(path_to_file, None)\n",
    "for s in range(9):\n",
    "    print(en[s])\n",
    "    print(fr[s])\n",
    "    print('====')"
   ]
  },
  {
   "cell_type": "code",
   "execution_count": 72,
   "metadata": {
    "colab": {},
    "colab_type": "code",
    "id": "BGZ6n267uGC4"
   },
   "outputs": [],
   "source": [
    "def tokenize(lang):\n",
    "  lang_tokenizer = tf.keras.preprocessing.text.Tokenizer(\n",
    "      filters='')\n",
    "  lang_tokenizer.fit_on_texts(lang)\n",
    "\n",
    "  tensor = lang_tokenizer.texts_to_sequences(lang)\n",
    "\n",
    "  tensor = tf.keras.preprocessing.sequence.pad_sequences(tensor,\n",
    "                                                         padding='post')\n",
    "\n",
    "  return tensor, lang_tokenizer"
   ]
  },
  {
   "cell_type": "code",
   "execution_count": 73,
   "metadata": {
    "colab": {},
    "colab_type": "code",
    "id": "TQ8FB5U9y1jU"
   },
   "outputs": [],
   "source": [
    "def load_dataset(path, num_examples=None):\n",
    "  # creating cleaned input, output pairs\n",
    "  targ_lang, inp_lang = create_dataset(path, num_examples)\n",
    "  \n",
    "  input_tensor, inp_lang_tokenizer = tokenize(inp_lang)\n",
    "  target_tensor, targ_lang_tokenizer = tokenize(targ_lang)\n",
    "\n",
    "  return input_tensor, target_tensor, inp_lang_tokenizer, targ_lang_tokenizer"
   ]
  },
  {
   "cell_type": "code",
   "execution_count": 74,
   "metadata": {
    "colab": {},
    "colab_type": "code",
    "id": "7sWcBu21y3mn"
   },
   "outputs": [],
   "source": [
    "# Try experimenting with the size of that dataset\n",
    "num_examples = 2222\n",
    "input_tensor, target_tensor, inp_lang, targ_lang = load_dataset(path_to_file, num_examples)\n",
    "\n",
    "# Calculate max_length of the target tensors\n",
    "max_length_targ, max_length_inp = target_tensor.shape[1], input_tensor.shape[1]"
   ]
  },
  {
   "cell_type": "code",
   "execution_count": 75,
   "metadata": {},
   "outputs": [
    {
     "name": "stdout",
     "output_type": "stream",
     "text": [
      "<keras_preprocessing.text.Tokenizer object at 0x00000140727D7BE0>\n"
     ]
    }
   ],
   "source": [
    "print(inp_lang)"
   ]
  },
  {
   "cell_type": "code",
   "execution_count": 76,
   "metadata": {},
   "outputs": [],
   "source": [
    "# saving\n",
    "with open('inp_lang.pickle', 'wb') as handle:\n",
    "    pickle.dump(inp_lang, handle, protocol=pickle.HIGHEST_PROTOCOL)\n",
    "\n",
    "with open('targ_lang.pickle', 'wb') as handle:\n",
    "    pickle.dump(targ_lang, handle, protocol=pickle.HIGHEST_PROTOCOL)\n",
    "\n",
    "# loading\n",
    "#with open('tokenizer.pickle', 'rb') as handle:\n",
    "#    tokenizer = pickle.load(handle)"
   ]
  },
  {
   "cell_type": "code",
   "execution_count": 77,
   "metadata": {
    "colab": {
     "base_uri": "https://localhost:8080/",
     "height": 34
    },
    "colab_type": "code",
    "id": "W3vexp6c_CCv",
    "outputId": "df371f70-1e51-4ba4-f4e7-0a7cb7100a2e"
   },
   "outputs": [
    {
     "name": "stdout",
     "output_type": "stream",
     "text": [
      "21 21\n"
     ]
    }
   ],
   "source": [
    "print(max_length_inp, max_length_targ)"
   ]
  },
  {
   "cell_type": "code",
   "execution_count": 78,
   "metadata": {
    "colab": {
     "base_uri": "https://localhost:8080/",
     "height": 34
    },
    "colab_type": "code",
    "id": "H87ixlDvzNz0",
    "outputId": "bd763137-dfcb-43a8-ca2f-ecb68b21739a"
   },
   "outputs": [
    {
     "name": "stdout",
     "output_type": "stream",
     "text": [
      "1999 1999 223 223\n"
     ]
    }
   ],
   "source": [
    "# Creating training and validation sets using an 80-20 split\n",
    "input_tensor_train, input_tensor_val, target_tensor_train, target_tensor_val = train_test_split(input_tensor, target_tensor, test_size = 0.1 )\n",
    "# Show length\n",
    "print(len(input_tensor_train), len(target_tensor_train), len(input_tensor_val), len(target_tensor_val))"
   ]
  },
  {
   "cell_type": "code",
   "execution_count": 79,
   "metadata": {},
   "outputs": [
    {
     "name": "stdout",
     "output_type": "stream",
     "text": [
      "(2222, 21)\n"
     ]
    }
   ],
   "source": [
    "print(input_tensor.shape)"
   ]
  },
  {
   "cell_type": "code",
   "execution_count": 80,
   "metadata": {
    "colab": {},
    "colab_type": "code",
    "id": "cwvATLwazTRZ"
   },
   "outputs": [],
   "source": [
    "def convert(lang, tensor):\n",
    "  for t in tensor:\n",
    "    if t!=0:\n",
    "      print (\"%d ----> %s\" % (t, lang.index_word[t]))"
   ]
  },
  {
   "cell_type": "code",
   "execution_count": 81,
   "metadata": {},
   "outputs": [
    {
     "name": "stdout",
     "output_type": "stream",
     "text": [
      "eka\n"
     ]
    }
   ],
   "source": [
    "print(inp_lang.index_word[345])"
   ]
  },
  {
   "cell_type": "code",
   "execution_count": 82,
   "metadata": {
    "colab": {
     "base_uri": "https://localhost:8080/",
     "height": 306
    },
    "colab_type": "code",
    "id": "qmOZS6-w9QFI",
    "outputId": "2a08dc60-3256-430e-eee5-99be15afbeb2",
    "scrolled": true
   },
   "outputs": [
    {
     "name": "stdout",
     "output_type": "stream",
     "text": [
      "Input Language; index to word mapping\n",
      "1 ----> <start>\n",
      "421 ----> belok\n",
      "313 ----> sambil\n",
      "2 ----> <end>\n",
      "\n",
      "Target Language; index to word mapping\n",
      "1 ----> <start>\n",
      "443 ----> belok\n",
      "328 ----> kiri\n",
      "2 ----> <end>\n"
     ]
    }
   ],
   "source": [
    "print (\"Input Language; index to word mapping\")\n",
    "convert(inp_lang, input_tensor_train[100])\n",
    "print ()\n",
    "print (\"Target Language; index to word mapping\")\n",
    "convert(targ_lang, target_tensor_train[100])"
   ]
  },
  {
   "cell_type": "code",
   "execution_count": 83,
   "metadata": {
    "colab": {
     "base_uri": "https://localhost:8080/",
     "height": 34
    },
    "colab_type": "code",
    "id": "PPT0A8Q-9VJE",
    "outputId": "f7401332-b294-4597-85a9-85b25da0cf7a"
   },
   "outputs": [
    {
     "name": "stdout",
     "output_type": "stream",
     "text": [
      "<BatchDataset shapes: ((2, 21), (2, 21)), types: (tf.int32, tf.int32)>\n"
     ]
    }
   ],
   "source": [
    "BUFFER_SIZE = len(input_tensor_train)\n",
    "BATCH_SIZE = 2\n",
    "steps_per_epoch = len(input_tensor_train)//BATCH_SIZE\n",
    "embedding_dim = 32\n",
    "units = 256\n",
    "vocab_inp_size = len(inp_lang.word_index)+1\n",
    "vocab_tar_size = len(targ_lang.word_index)+1\n",
    "\n",
    "dataset = tf.data.Dataset.from_tensor_slices((input_tensor_train, target_tensor_train)).shuffle(BUFFER_SIZE)\n",
    "dataset = dataset.batch(BATCH_SIZE, drop_remainder=True)\n",
    "print(dataset)"
   ]
  },
  {
   "cell_type": "code",
   "execution_count": 84,
   "metadata": {},
   "outputs": [
    {
     "name": "stdout",
     "output_type": "stream",
     "text": [
      "999\n"
     ]
    }
   ],
   "source": [
    "print(steps_per_epoch)"
   ]
  },
  {
   "cell_type": "code",
   "execution_count": 85,
   "metadata": {
    "colab": {
     "base_uri": "https://localhost:8080/",
     "height": 34
    },
    "colab_type": "code",
    "id": "YDk6DEoiDFsq",
    "outputId": "d948c61a-6e00-4153-8d5c-a8682c4b8c6d"
   },
   "outputs": [
    {
     "data": {
      "text/plain": [
       "(TensorShape([2, 21]), TensorShape([2, 21]))"
      ]
     },
     "execution_count": 85,
     "metadata": {},
     "output_type": "execute_result"
    }
   ],
   "source": [
    "input_batch, target_batch = next(iter(dataset))\n",
    "input_batch.shape, target_batch.shape"
   ]
  },
  {
   "cell_type": "code",
   "execution_count": 86,
   "metadata": {
    "colab": {},
    "colab_type": "code",
    "id": "4lDVlaVX_y4v"
   },
   "outputs": [],
   "source": [
    "def gru(units):\n",
    "  # If you have a GPU, we recommend using CuDNNGRU(provides a 3x speedup than GRU)\n",
    "  # the code automatically does that.\n",
    "  if tf.test.is_gpu_available():\n",
    "    print('cuDNNGRU is Used')\n",
    "    return GRU(units, return_sequences=True, \n",
    "                           return_state=True, \n",
    "                           recurrent_initializer='glorot_uniform')\n",
    "  else:\n",
    "    print('GRU is used')\n",
    "    return GRU(units, return_sequences=True, \n",
    "                      return_state=True, \n",
    "                      recurrent_activation='sigmoid', \n",
    "                      recurrent_initializer='glorot_uniform')"
   ]
  },
  {
   "cell_type": "code",
   "execution_count": 87,
   "metadata": {
    "colab": {},
    "colab_type": "code",
    "id": "teK1YcA2DtVR"
   },
   "outputs": [],
   "source": [
    "class Encoder(tf.keras.Model):\n",
    "  def __init__(self, vocab_size, embedding_dim, enc_units, batch_sz):\n",
    "    super(Encoder, self).__init__()\n",
    "    self.batch_sz = batch_sz\n",
    "    self.enc_units = enc_units\n",
    "    self.embedding = tf.keras.layers.Embedding(vocab_size, embedding_dim)\n",
    "    self.gru = GRU(self.enc_units,\n",
    "                                   return_sequences=True,\n",
    "                                   return_state=True,\n",
    "                                   recurrent_initializer='glorot_uniform')\n",
    "\n",
    "  def call(self, x, hidden):\n",
    "    x = self.embedding(x)\n",
    "    output, state = self.gru(x, initial_state = hidden)\n",
    "    return output, state\n",
    "\n",
    "  def initialize_hidden_state(self):\n",
    "    return tf.zeros((self.batch_sz, self.enc_units))"
   ]
  },
  {
   "cell_type": "code",
   "execution_count": 88,
   "metadata": {
    "colab": {},
    "colab_type": "code",
    "id": "wpnPUiV48cca"
   },
   "outputs": [],
   "source": [
    "class BahdanauAttention(tf.keras.layers.Layer):\n",
    "  def __init__(self, units):\n",
    "    super(BahdanauAttention, self).__init__()\n",
    "    self.W1 = tf.keras.layers.Dense(units)\n",
    "    self.W2 = tf.keras.layers.Dense(units)\n",
    "    self.V = tf.keras.layers.Dense(1)\n",
    "\n",
    "  def call(self, query, values):\n",
    "    # query hidden state shape == (batch_size, hidden size)\n",
    "    # query_with_time_axis shape == (batch_size, 1, hidden size)\n",
    "    # values shape == (batch_size, max_len, hidden size)\n",
    "    # we are doing this to broadcast addition along the time axis to calculate the score\n",
    "    query_with_time_axis = tf.expand_dims(query, 1)\n",
    "\n",
    "    # score shape == (batch_size, max_length, 1)\n",
    "    # we get 1 at the last axis because we are applying score to self.V\n",
    "    # the shape of the tensor before applying self.V is (batch_size, max_length, units)\n",
    "    score = self.V(tf.nn.tanh(\n",
    "        self.W1(query_with_time_axis) + self.W2(values)))\n",
    "\n",
    "    # attention_weights shape == (batch_size, max_length, 1)\n",
    "    attention_weights = tf.nn.softmax(score, axis=1)\n",
    "\n",
    "    # context_vector shape after sum == (batch_size, hidden_size)\n",
    "    context_vector = attention_weights * values\n",
    "    context_vector = tf.reduce_sum(context_vector, axis=1)\n",
    "\n",
    "    return context_vector, attention_weights\n",
    "\n",
    "attention_layer = BahdanauAttention(10)"
   ]
  },
  {
   "cell_type": "code",
   "execution_count": 89,
   "metadata": {
    "colab": {
     "base_uri": "https://localhost:8080/",
     "height": 54
    },
    "colab_type": "code",
    "id": "mUrLM-bRf57y",
    "outputId": "be1cffe3-6e49-4d71-8e86-5124a30af71a"
   },
   "outputs": [],
   "source": [
    "class Decoder(tf.keras.Model):\n",
    "    def __init__(self, vocab_size, embedding_dim, dec_units, batch_sz):\n",
    "        super(Decoder, self).__init__()\n",
    "        self.batch_sz = batch_sz\n",
    "        self.dec_units = dec_units\n",
    "        self.embedding = tf.keras.layers.Embedding(vocab_size, embedding_dim)\n",
    "        self.gru = gru(self.dec_units)\n",
    "        self.fc = tf.keras.layers.Dense(vocab_size)\n",
    "        \n",
    "        # used for attention\n",
    "        self.W1 = tf.keras.layers.Dense(self.dec_units)\n",
    "        self.W2 = tf.keras.layers.Dense(self.dec_units)\n",
    "        self.V = tf.keras.layers.Dense(1)\n",
    "        \n",
    "    def call(self, x, hidden, enc_output):\n",
    "        hidden_with_time_axis = tf.expand_dims(hidden, 1)\n",
    "\n",
    "        score = tf.nn.tanh(self.W1(enc_output) + self.W2(hidden_with_time_axis))\n",
    "        attention_weights = tf.nn.softmax(self.V(score), axis=1)\n",
    "        context_vector = attention_weights * enc_output\n",
    "        context_vector = tf.reduce_sum(context_vector, axis=1)\n",
    "        \n",
    "        x = self.embedding(x)\n",
    "        x = tf.concat([tf.expand_dims(context_vector, 1), x], axis=-1)\n",
    "        output, state = self.gru(x)\n",
    "        output = tf.reshape(output, (-1, output.shape[2]))\n",
    "        \n",
    "        # output shape == (batch_size * max_length, vocab)\n",
    "        x = self.fc(output)\n",
    "        \n",
    "        return x, state, attention_weights\n",
    "        \n",
    "    def initialize_hidden_state(self):\n",
    "        return tf.zeros((self.batch_sz, self.dec_units))\n",
    "        "
   ]
  },
  {
   "cell_type": "code",
   "execution_count": 90,
   "metadata": {
    "colab": {},
    "colab_type": "code",
    "id": "K7dYaBu78pfU"
   },
   "outputs": [
    {
     "data": {
      "text/plain": [
       "\"class Decoder(tf.keras.Model):\\n  def __init__(self, vocab_size, embedding_dim, dec_units, batch_sz):\\n    super(Decoder, self).__init__()\\n    self.batch_sz = batch_sz\\n    self.dec_units = dec_units\\n    self.embedding = tf.keras.layers.Embedding(vocab_size, embedding_dim)\\n    self.gru = tf.keras.layers.GRU(self.dec_units,\\n                                   return_sequences=True,\\n                                   return_state=True,\\n                                   recurrent_initializer='glorot_uniform')\\n    self.fc = tf.keras.layers.Dense(vocab_size)\\n\\n    # used for attention\\n    self.attention = BahdanauAttention(self.dec_units)\\n\\n  def call(self, x, hidden, enc_output):\\n    # enc_output shape == (batch_size, max_length, hidden_size)\\n    context_vector, attention_weights = self.attention(hidden, enc_output)\\n\\n    # x shape after passing through embedding == (batch_size, 1, embedding_dim)\\n    x = self.embedding(x)\\n\\n    # x shape after concatenation == (batch_size, 1, embedding_dim + hidden_size)\\n    x = tf.concat([tf.expand_dims(context_vector, 1), x], axis=-1)\\n\\n    # passing the concatenated vector to the GRU\\n    output, state = self.gru(x)\\n\\n    # output shape == (batch_size * 1, hidden_size)\\n    output = tf.reshape(output, (-1, output.shape[2]))\\n\\n    # output shape == (batch_size, vocab)\\n    x = self.fc(output)\\n\\n    return x, state, attention_weights\\n\""
      ]
     },
     "execution_count": 90,
     "metadata": {},
     "output_type": "execute_result"
    }
   ],
   "source": [
    "'''class Decoder(tf.keras.Model):\n",
    "  def __init__(self, vocab_size, embedding_dim, dec_units, batch_sz):\n",
    "    super(Decoder, self).__init__()\n",
    "    self.batch_sz = batch_sz\n",
    "    self.dec_units = dec_units\n",
    "    self.embedding = tf.keras.layers.Embedding(vocab_size, embedding_dim)\n",
    "    self.gru = tf.keras.layers.GRU(self.dec_units,\n",
    "                                   return_sequences=True,\n",
    "                                   return_state=True,\n",
    "                                   recurrent_initializer='glorot_uniform')\n",
    "    self.fc = tf.keras.layers.Dense(vocab_size)\n",
    "\n",
    "    # used for attention\n",
    "    self.attention = BahdanauAttention(self.dec_units)\n",
    "\n",
    "  def call(self, x, hidden, enc_output):\n",
    "    # enc_output shape == (batch_size, max_length, hidden_size)\n",
    "    context_vector, attention_weights = self.attention(hidden, enc_output)\n",
    "\n",
    "    # x shape after passing through embedding == (batch_size, 1, embedding_dim)\n",
    "    x = self.embedding(x)\n",
    "\n",
    "    # x shape after concatenation == (batch_size, 1, embedding_dim + hidden_size)\n",
    "    x = tf.concat([tf.expand_dims(context_vector, 1), x], axis=-1)\n",
    "\n",
    "    # passing the concatenated vector to the GRU\n",
    "    output, state = self.gru(x)\n",
    "\n",
    "    # output shape == (batch_size * 1, hidden_size)\n",
    "    output = tf.reshape(output, (-1, output.shape[2]))\n",
    "\n",
    "    # output shape == (batch_size, vocab)\n",
    "    x = self.fc(output)\n",
    "\n",
    "    return x, state, attention_weights\n",
    "'''"
   ]
  },
  {
   "cell_type": "code",
   "execution_count": 91,
   "metadata": {
    "colab": {},
    "colab_type": "code",
    "id": "JkHzbiweBBKn",
    "scrolled": true
   },
   "outputs": [
    {
     "name": "stdout",
     "output_type": "stream",
     "text": [
      "cuDNNGRU is Used\n"
     ]
    }
   ],
   "source": [
    "encoder = Encoder(vocab_inp_size, embedding_dim, units, BATCH_SIZE)\n",
    "decoder = Decoder(vocab_tar_size, embedding_dim, units, BATCH_SIZE)"
   ]
  },
  {
   "cell_type": "code",
   "execution_count": 92,
   "metadata": {
    "colab": {},
    "colab_type": "code",
    "id": "oCv0X9CPBMta"
   },
   "outputs": [],
   "source": [
    "optimizer = tf.keras.optimizers.Adam()\n",
    "loss_object = tf.keras.losses.SparseCategoricalCrossentropy(\n",
    "    from_logits=True, reduction='none')\n",
    "\n",
    "def loss_function(real, pred):\n",
    "  mask = tf.math.logical_not(tf.math.equal(real, 0))\n",
    "  loss_ = loss_object(real, pred)\n",
    "\n",
    "  mask = tf.cast(mask, dtype=loss_.dtype)\n",
    "  loss_ *= mask\n",
    "\n",
    "  return tf.reduce_mean(loss_)"
   ]
  },
  {
   "cell_type": "code",
   "execution_count": 93,
   "metadata": {
    "colab": {},
    "colab_type": "code",
    "id": "ABtres4SNtUx"
   },
   "outputs": [],
   "source": [
    "checkpoint_dir = './training_checkpointss'\n",
    "checkpoint_prefix = os.path.join(checkpoint_dir, \"ckpt\")\n",
    "checkpoint = tf.train.Checkpoint(optimizer=optimizer,\n",
    "                                 encoder=encoder,\n",
    "                                 decoder=decoder)"
   ]
  },
  {
   "cell_type": "code",
   "execution_count": 94,
   "metadata": {
    "colab": {},
    "colab_type": "code",
    "id": "XHatiEnCD4bO"
   },
   "outputs": [],
   "source": [
    "@tf.function\n",
    "def train_step(inp, targ, enc_hidden):\n",
    "  loss = 0\n",
    "\n",
    "  with tf.GradientTape() as tape:\n",
    "    enc_output, enc_hidden = encoder(inp, enc_hidden)\n",
    "\n",
    "    dec_hidden = enc_hidden\n",
    "\n",
    "    dec_input = tf.expand_dims([targ_lang.word_index['<start>']] * BATCH_SIZE, 1)\n",
    "\n",
    "    # Teacher forcing - feeding the target as the next input\n",
    "    for t in range(1, targ.shape[1]):\n",
    "      # passing enc_output to the decoder\n",
    "      predictions, dec_hidden, _ = decoder(dec_input, dec_hidden, enc_output)\n",
    "\n",
    "      loss += loss_function(targ[:, t], predictions)\n",
    "\n",
    "      # using teacher forcing\n",
    "      dec_input = tf.expand_dims(targ[:, t], 1)\n",
    "\n",
    "  batch_loss = (loss / int(targ.shape[1]))\n",
    "\n",
    "  variables = encoder.trainable_variables + decoder.trainable_variables\n",
    "\n",
    "  gradients = tape.gradient(loss, variables)\n",
    "\n",
    "  optimizer.apply_gradients(zip(gradients, variables))\n",
    "\n",
    "  return batch_loss"
   ]
  },
  {
   "cell_type": "code",
   "execution_count": 95,
   "metadata": {
    "colab": {
     "base_uri": "https://localhost:8080/",
     "height": 1000
    },
    "colab_type": "code",
    "id": "t84vbnHTExZI",
    "outputId": "8f173d05-b9ca-4e5c-a136-e8ca09f14dce"
   },
   "outputs": [
    {
     "name": "stdout",
     "output_type": "stream",
     "text": [
      "Epoch 1 Batch 0 Loss 1.0065\n",
      "Time taken for 1 batch 18.776151418685913 sec\n",
      "\n",
      "Epoch 1 Batch 100 Loss 0.6224\n",
      "Time taken for 1 batch 24.420894861221313 sec\n",
      "\n",
      "Epoch 1 Batch 200 Loss 1.1827\n",
      "Time taken for 1 batch 30.112480878829956 sec\n",
      "\n",
      "Epoch 1 Batch 300 Loss 1.0013\n",
      "Time taken for 1 batch 36.05633568763733 sec\n",
      "\n",
      "Epoch 1 Batch 400 Loss 0.5582\n",
      "Time taken for 1 batch 41.90521287918091 sec\n",
      "\n",
      "Epoch 1 Batch 500 Loss 1.0926\n",
      "Time taken for 1 batch 47.737738847732544 sec\n",
      "\n",
      "Epoch 1 Batch 600 Loss 0.8705\n",
      "Time taken for 1 batch 53.492592573165894 sec\n",
      "\n",
      "Epoch 1 Batch 700 Loss 0.5576\n",
      "Time taken for 1 batch 58.99691295623779 sec\n",
      "\n",
      "Epoch 1 Batch 800 Loss 0.7889\n",
      "Time taken for 1 batch 64.51522397994995 sec\n",
      "\n",
      "Epoch 1 Batch 900 Loss 0.7590\n",
      "Time taken for 1 batch 70.17608308792114 sec\n",
      "\n",
      "Epoch 1 Loss 0.7269\n",
      "Time taken for 1 epoch 75.71265172958374 sec\n",
      "\n",
      "Epoch 2 Batch 0 Loss 1.1345\n",
      "Time taken for 1 batch 0.06300139427185059 sec\n",
      "\n",
      "Epoch 2 Batch 100 Loss 0.4879\n",
      "Time taken for 1 batch 5.692646503448486 sec\n",
      "\n",
      "Epoch 2 Batch 200 Loss 0.6772\n",
      "Time taken for 1 batch 11.430711030960083 sec\n",
      "\n",
      "Epoch 2 Batch 300 Loss 0.7951\n",
      "Time taken for 1 batch 17.029040813446045 sec\n",
      "\n",
      "Epoch 2 Batch 400 Loss 0.4963\n",
      "Time taken for 1 batch 22.721055030822754 sec\n",
      "\n",
      "Epoch 2 Batch 500 Loss 0.6240\n",
      "Time taken for 1 batch 28.366453647613525 sec\n",
      "\n",
      "Epoch 2 Batch 600 Loss 0.6301\n",
      "Time taken for 1 batch 33.995763063430786 sec\n",
      "\n",
      "Epoch 2 Batch 700 Loss 0.3305\n",
      "Time taken for 1 batch 39.60869264602661 sec\n",
      "\n",
      "Epoch 2 Batch 800 Loss 0.8574\n",
      "Time taken for 1 batch 45.301000118255615 sec\n",
      "\n",
      "Epoch 2 Batch 900 Loss 0.5938\n",
      "Time taken for 1 batch 52.31652641296387 sec\n",
      "\n",
      "Epoch 2 Loss 0.6337\n",
      "Time taken for 1 epoch 58.42543005943298 sec\n",
      "\n",
      "Epoch 3 Batch 0 Loss 0.3076\n",
      "Time taken for 1 batch 0.04687356948852539 sec\n",
      "\n",
      "Epoch 3 Batch 100 Loss 0.7614\n",
      "Time taken for 1 batch 6.102996587753296 sec\n",
      "\n",
      "Epoch 3 Batch 200 Loss 0.5872\n",
      "Time taken for 1 batch 12.310156106948853 sec\n",
      "\n",
      "Epoch 3 Batch 300 Loss 0.7804\n",
      "Time taken for 1 batch 18.110750198364258 sec\n",
      "\n",
      "Epoch 3 Batch 400 Loss 0.4730\n",
      "Time taken for 1 batch 23.8503201007843 sec\n",
      "\n",
      "Epoch 3 Batch 500 Loss 0.5883\n",
      "Time taken for 1 batch 29.683678150177002 sec\n",
      "\n",
      "Epoch 3 Batch 600 Loss 0.3454\n",
      "Time taken for 1 batch 35.53481912612915 sec\n",
      "\n",
      "Epoch 3 Batch 700 Loss 0.3372\n",
      "Time taken for 1 batch 41.246317863464355 sec\n",
      "\n",
      "Epoch 3 Batch 800 Loss 0.4922\n",
      "Time taken for 1 batch 47.1987669467926 sec\n",
      "\n",
      "Epoch 3 Batch 900 Loss 0.5436\n",
      "Time taken for 1 batch 52.906498193740845 sec\n",
      "\n",
      "Epoch 3 Loss 0.5700\n",
      "Time taken for 1 epoch 58.59807825088501 sec\n",
      "\n",
      "Epoch 4 Batch 0 Loss 0.4914\n",
      "Time taken for 1 batch 0.06250214576721191 sec\n",
      "\n",
      "Epoch 4 Batch 100 Loss 0.5025\n",
      "Time taken for 1 batch 5.833826780319214 sec\n",
      "\n",
      "Epoch 4 Batch 200 Loss 0.7581\n",
      "Time taken for 1 batch 11.703161478042603 sec\n",
      "\n",
      "Epoch 4 Batch 300 Loss 0.4268\n",
      "Time taken for 1 batch 17.337420225143433 sec\n",
      "\n",
      "Epoch 4 Batch 400 Loss 0.4594\n",
      "Time taken for 1 batch 25.52935004234314 sec\n",
      "\n",
      "Epoch 4 Batch 500 Loss 0.5826\n",
      "Time taken for 1 batch 39.05877470970154 sec\n",
      "\n",
      "Epoch 4 Batch 600 Loss 0.4968\n",
      "Time taken for 1 batch 47.89026379585266 sec\n",
      "\n",
      "Epoch 4 Batch 700 Loss 0.5934\n",
      "Time taken for 1 batch 59.5413281917572 sec\n",
      "\n",
      "Epoch 4 Batch 800 Loss 0.4144\n",
      "Time taken for 1 batch 71.14387774467468 sec\n",
      "\n",
      "Epoch 4 Batch 900 Loss 0.4739\n",
      "Time taken for 1 batch 84.95275044441223 sec\n",
      "\n",
      "Epoch 4 Loss 0.5163\n",
      "Time taken for 1 epoch 101.62605857849121 sec\n",
      "\n",
      "Epoch 5 Batch 0 Loss 0.2294\n",
      "Time taken for 1 batch 0.17319750785827637 sec\n",
      "\n",
      "Epoch 5 Batch 100 Loss 0.6446\n",
      "Time taken for 1 batch 16.54359531402588 sec\n",
      "\n",
      "Epoch 5 Batch 200 Loss 0.5043\n",
      "Time taken for 1 batch 34.31015157699585 sec\n",
      "\n",
      "Epoch 5 Batch 300 Loss 0.4310\n",
      "Time taken for 1 batch 53.330602407455444 sec\n",
      "\n",
      "Epoch 5 Batch 400 Loss 0.6264\n",
      "Time taken for 1 batch 72.41597509384155 sec\n",
      "\n",
      "Epoch 5 Batch 500 Loss 0.8772\n",
      "Time taken for 1 batch 91.44995212554932 sec\n",
      "\n",
      "Epoch 5 Batch 600 Loss 0.3324\n",
      "Time taken for 1 batch 110.5330171585083 sec\n",
      "\n",
      "Epoch 5 Batch 700 Loss 0.2738\n",
      "Time taken for 1 batch 129.61686325073242 sec\n",
      "\n",
      "Epoch 5 Batch 800 Loss 0.6736\n",
      "Time taken for 1 batch 148.70041632652283 sec\n",
      "\n",
      "Epoch 5 Batch 900 Loss 0.4491\n",
      "Time taken for 1 batch 167.90899753570557 sec\n",
      "\n",
      "Epoch 5 Loss 0.4673\n",
      "Time taken for 1 epoch 186.63446187973022 sec\n",
      "\n",
      "Epoch 6 Batch 0 Loss 0.4971\n",
      "Time taken for 1 batch 0.1850578784942627 sec\n",
      "\n",
      "Epoch 6 Batch 100 Loss 0.7691\n",
      "Time taken for 1 batch 19.294940948486328 sec\n",
      "\n",
      "Epoch 6 Batch 200 Loss 0.2020\n",
      "Time taken for 1 batch 38.35250186920166 sec\n",
      "\n",
      "Epoch 6 Batch 300 Loss 0.2642\n",
      "Time taken for 1 batch 57.435234785079956 sec\n",
      "\n",
      "Epoch 6 Batch 400 Loss 0.3147\n",
      "Time taken for 1 batch 76.48876929283142 sec\n",
      "\n",
      "Epoch 6 Batch 500 Loss 0.5300\n",
      "Time taken for 1 batch 95.58662128448486 sec\n",
      "\n",
      "Epoch 6 Batch 600 Loss 0.3762\n",
      "Time taken for 1 batch 114.59166860580444 sec\n",
      "\n",
      "Epoch 6 Batch 700 Loss 0.2831\n",
      "Time taken for 1 batch 133.4252951145172 sec\n",
      "\n",
      "Epoch 6 Batch 800 Loss 0.4646\n",
      "Time taken for 1 batch 149.1352822780609 sec\n",
      "\n",
      "Epoch 6 Batch 900 Loss 0.3962\n",
      "Time taken for 1 batch 166.5886309146881 sec\n",
      "\n",
      "Epoch 6 Loss 0.4185\n",
      "Time taken for 1 epoch 181.92517185211182 sec\n",
      "\n",
      "Epoch 7 Batch 0 Loss 0.3113\n",
      "Time taken for 1 batch 0.15665102005004883 sec\n",
      "\n",
      "Epoch 7 Batch 100 Loss 0.6698\n",
      "Time taken for 1 batch 16.41778326034546 sec\n",
      "\n",
      "Epoch 7 Batch 200 Loss 0.2733\n",
      "Time taken for 1 batch 34.168163537979126 sec\n",
      "\n",
      "Epoch 7 Batch 300 Loss 0.3588\n",
      "Time taken for 1 batch 51.494231939315796 sec\n",
      "\n",
      "Epoch 7 Batch 400 Loss 0.2131\n",
      "Time taken for 1 batch 67.51978874206543 sec\n",
      "\n",
      "Epoch 7 Batch 500 Loss 0.1820\n",
      "Time taken for 1 batch 84.5186870098114 sec\n",
      "\n",
      "Epoch 7 Batch 600 Loss 0.2719\n",
      "Time taken for 1 batch 100.76322889328003 sec\n",
      "\n",
      "Epoch 7 Batch 700 Loss 0.2724\n",
      "Time taken for 1 batch 117.00136423110962 sec\n",
      "\n",
      "Epoch 7 Batch 800 Loss 0.2277\n",
      "Time taken for 1 batch 133.88048386573792 sec\n",
      "\n",
      "Epoch 7 Batch 900 Loss 0.4153\n",
      "Time taken for 1 batch 149.38870525360107 sec\n",
      "\n",
      "Epoch 7 Loss 0.3755\n",
      "Time taken for 1 epoch 165.30466508865356 sec\n",
      "\n",
      "Epoch 8 Batch 0 Loss 0.3669\n",
      "Time taken for 1 batch 0.17228078842163086 sec\n",
      "\n",
      "Epoch 8 Batch 100 Loss 0.2556\n",
      "Time taken for 1 batch 16.098080158233643 sec\n",
      "\n",
      "Epoch 8 Batch 200 Loss 0.2372\n",
      "Time taken for 1 batch 32.31771230697632 sec\n",
      "\n",
      "Epoch 8 Batch 300 Loss 0.2170\n",
      "Time taken for 1 batch 48.51637649536133 sec\n",
      "\n",
      "Epoch 8 Batch 400 Loss 0.2203\n",
      "Time taken for 1 batch 63.208508014678955 sec\n",
      "\n",
      "Epoch 8 Batch 500 Loss 0.2091\n",
      "Time taken for 1 batch 79.4698874950409 sec\n",
      "\n",
      "Epoch 8 Batch 600 Loss 0.3387\n",
      "Time taken for 1 batch 95.6832332611084 sec\n",
      "\n",
      "Epoch 8 Batch 700 Loss 0.2720\n",
      "Time taken for 1 batch 110.65854668617249 sec\n",
      "\n",
      "Epoch 8 Batch 800 Loss 0.3655\n",
      "Time taken for 1 batch 126.8566472530365 sec\n",
      "\n",
      "Epoch 8 Batch 900 Loss 0.6926\n",
      "Time taken for 1 batch 139.43211388587952 sec\n",
      "\n",
      "Epoch 8 Loss 0.3305\n",
      "Time taken for 1 epoch 152.18109154701233 sec\n",
      "\n",
      "Epoch 9 Batch 0 Loss 0.2359\n",
      "Time taken for 1 batch 0.06290721893310547 sec\n",
      "\n",
      "Epoch 9 Batch 100 Loss 0.1344\n",
      "Time taken for 1 batch 10.192558288574219 sec\n",
      "\n",
      "Epoch 9 Batch 200 Loss 0.3820\n",
      "Time taken for 1 batch 22.03076481819153 sec\n",
      "\n",
      "Epoch 9 Batch 300 Loss 0.2481\n",
      "Time taken for 1 batch 34.95159435272217 sec\n",
      "\n",
      "Epoch 9 Batch 400 Loss 0.3452\n",
      "Time taken for 1 batch 47.325185775756836 sec\n",
      "\n",
      "Epoch 9 Batch 500 Loss 0.3424\n",
      "Time taken for 1 batch 59.47638440132141 sec\n",
      "\n",
      "Epoch 9 Batch 600 Loss 0.2003\n",
      "Time taken for 1 batch 68.64244961738586 sec\n",
      "\n",
      "Epoch 9 Batch 700 Loss 0.2525\n",
      "Time taken for 1 batch 77.69695591926575 sec\n",
      "\n",
      "Epoch 9 Batch 800 Loss 0.2200\n",
      "Time taken for 1 batch 87.3424825668335 sec\n",
      "\n",
      "Epoch 9 Batch 900 Loss 0.6997\n",
      "Time taken for 1 batch 96.65556573867798 sec\n",
      "\n",
      "Epoch 9 Loss 0.2910\n",
      "Time taken for 1 epoch 105.67366051673889 sec\n",
      "\n",
      "Epoch 10 Batch 0 Loss 0.1307\n",
      "Time taken for 1 batch 0.062000274658203125 sec\n",
      "\n",
      "Epoch 10 Batch 100 Loss 0.1780\n",
      "Time taken for 1 batch 8.716461181640625 sec\n",
      "\n",
      "Epoch 10 Batch 200 Loss 0.2581\n",
      "Time taken for 1 batch 18.196303606033325 sec\n",
      "\n",
      "Epoch 10 Batch 300 Loss 0.3451\n",
      "Time taken for 1 batch 26.2949960231781 sec\n",
      "\n",
      "Epoch 10 Batch 400 Loss 0.0678\n",
      "Time taken for 1 batch 36.20747685432434 sec\n",
      "\n",
      "Epoch 10 Batch 500 Loss 0.2269\n",
      "Time taken for 1 batch 44.50027561187744 sec\n",
      "\n",
      "Epoch 10 Batch 600 Loss 0.2928\n",
      "Time taken for 1 batch 53.46238660812378 sec\n",
      "\n",
      "Epoch 10 Batch 700 Loss 0.7007\n",
      "Time taken for 1 batch 62.18468523025513 sec\n",
      "\n",
      "Epoch 10 Batch 800 Loss 0.1907\n",
      "Time taken for 1 batch 70.37298560142517 sec\n",
      "\n",
      "Epoch 10 Batch 900 Loss 0.1646\n",
      "Time taken for 1 batch 77.71140956878662 sec\n",
      "\n"
     ]
    },
    {
     "name": "stdout",
     "output_type": "stream",
     "text": [
      "Epoch 10 Loss 0.2484\n",
      "Time taken for 1 epoch 85.78620052337646 sec\n",
      "\n"
     ]
    }
   ],
   "source": [
    "EPOCHS = 10\n",
    "\n",
    "for epoch in range(EPOCHS):\n",
    "  start = time.time()\n",
    "\n",
    "  enc_hidden = encoder.initialize_hidden_state()\n",
    "  total_loss = 0\n",
    "\n",
    "  for (batch, (inp, targ)) in enumerate(dataset.take(steps_per_epoch)):\n",
    "    batch_loss = train_step(inp, targ, enc_hidden)\n",
    "    total_loss = total_loss + batch_loss\n",
    "\n",
    "    if batch % 100 == 0:\n",
    "      print('Epoch {} Batch {} Loss {:.4f}'.format(epoch + 1,\n",
    "                                                   batch,\n",
    "                                                   batch_loss.numpy()))\n",
    "      print('Time taken for 1 batch {} sec\\n'.format(time.time() - start))\n",
    "  # saving (checkpoint) the model every 2 epochs\n",
    " # if (epoch + 1) % 2 == 0:\n",
    " #   checkpoint.save(file_prefix = checkpoint_prefix)\n",
    "\n",
    "  print('Epoch {} Loss {:.4f}'.format(epoch + 1,\n",
    "                                      total_loss / steps_per_epoch))\n",
    "  print('Time taken for 1 epoch {} sec\\n'.format(time.time() - start))\n"
   ]
  },
  {
   "cell_type": "code",
   "execution_count": 96,
   "metadata": {
    "colab": {},
    "colab_type": "code",
    "id": "hIbkNJWl750m"
   },
   "outputs": [],
   "source": [
    "#checkpoint.restore(tf.train.latest_checkpoint(checkpoint_dir))\n",
    "#checkpoint.save(file_prefix = checkpoint_prefix)"
   ]
  },
  {
   "cell_type": "code",
   "execution_count": 97,
   "metadata": {
    "colab": {},
    "colab_type": "code",
    "id": "KuFVut942Ko8"
   },
   "outputs": [],
   "source": [
    "def evaluate(sentence):\n",
    "  attention_plot = np.zeros((max_length_targ, max_length_inp))\n",
    "\n",
    "  sentence = preprocess_sentence(sentence)\n",
    "\n",
    "  inputs = [inp_lang.word_index[i] for i in sentence.split(' ')]\n",
    "  inputs = tf.keras.preprocessing.sequence.pad_sequences([inputs],\n",
    "                                                         maxlen=max_length_inp,\n",
    "                                                         padding='post')\n",
    "  inputs = tf.convert_to_tensor(inputs)\n",
    "\n",
    "  result = ''\n",
    "\n",
    "  hidden = [tf.zeros((1, units))]\n",
    "  enc_out, enc_hidden = encoder(inputs, hidden)\n",
    "\n",
    "  dec_hidden = enc_hidden\n",
    "  dec_input = tf.expand_dims([targ_lang.word_index['<start>']], 0)\n",
    "\n",
    "  for t in range(max_length_targ):\n",
    "    predictions, dec_hidden, attention_weights = decoder(dec_input,\n",
    "                                                         dec_hidden,\n",
    "                                                         enc_out)\n",
    "\n",
    "    # storing the attention weights to plot later on\n",
    "    attention_weights = tf.reshape(attention_weights, (-1, ))\n",
    "    attention_plot[t] = attention_weights.numpy()\n",
    "\n",
    "    predicted_id = tf.argmax(predictions[0]).numpy()\n",
    "\n",
    "    result += targ_lang.index_word[predicted_id] + ' '\n",
    "\n",
    "    if targ_lang.index_word[predicted_id] == '<end>':\n",
    "      return result, sentence, attention_plot\n",
    "\n",
    "    # the predicted ID is fed back into the model\n",
    "    dec_input = tf.expand_dims([predicted_id], 0)\n",
    "\n",
    "  return result, sentence, attention_plot"
   ]
  },
  {
   "cell_type": "code",
   "execution_count": 98,
   "metadata": {},
   "outputs": [
    {
     "data": {
      "text/plain": [
       "'./training_checkpointss\\\\ckpt-1'"
      ]
     },
     "execution_count": 98,
     "metadata": {},
     "output_type": "execute_result"
    }
   ],
   "source": [
    "checkpoint.save(file_prefix = checkpoint_prefix)"
   ]
  },
  {
   "cell_type": "code",
   "execution_count": 99,
   "metadata": {
    "colab": {},
    "colab_type": "code",
    "id": "nxNPS1aTNI-r"
   },
   "outputs": [],
   "source": [
    "# function for plotting the attention weights\n",
    "import matplotlib.ticker as ticker\n",
    "def plot_attention(attention, sentence, predicted_sentence):\n",
    "  fig = plt.figure(figsize=(10,10))\n",
    "  ax = fig.add_subplot(1, 1, 1)\n",
    "  ax.matshow(attention, cmap='viridis')\n",
    "\n",
    "  fontdict = {'fontsize': 14}\n",
    "\n",
    "  ax.set_xticklabels([''] + sentence, fontdict=fontdict, rotation=90)\n",
    "  ax.set_yticklabels([''] + predicted_sentence, fontdict=fontdict)\n",
    "\n",
    "  ax.xaxis.set_major_locator(ticker.MultipleLocator(1))\n",
    "  ax.yaxis.set_major_locator(ticker.MultipleLocator(1))\n",
    "\n",
    "  plt.show()"
   ]
  },
  {
   "cell_type": "code",
   "execution_count": 100,
   "metadata": {
    "colab": {},
    "colab_type": "code",
    "id": "-w3W6IfWxYD7"
   },
   "outputs": [],
   "source": [
    "def translate(sentence):\n",
    "  result, sentence, attention_plot = evaluate(sentence)\n",
    "\n",
    "  print('Input: %s' % (sentence))\n",
    "  print('Predicted translation: {}'.format(result))\n",
    "\n",
    "  attention_plot = attention_plot[:len(result.split(' ')), :len(sentence.split(' '))]\n",
    "  plot_attention(attention_plot, sentence.split(' '), result.split(' '))"
   ]
  },
  {
   "cell_type": "code",
   "execution_count": 101,
   "metadata": {
    "colab": {
     "base_uri": "https://localhost:8080/",
     "height": 675
    },
    "colab_type": "code",
    "id": "x00g29wuxicN",
    "outputId": "da066001-9d4e-4d45-f092-70f72311c3be",
    "scrolled": true
   },
   "outputs": [],
   "source": [
    "#translate(u'narai')"
   ]
  },
  {
   "cell_type": "code",
   "execution_count": 110,
   "metadata": {
    "colab": {
     "base_uri": "https://localhost:8080/",
     "height": 675
    },
    "colab_type": "code",
    "id": "xKZXcyVMxvTA",
    "outputId": "40f2926a-0580-46eb-b79e-6bf6eae8a52d"
   },
   "outputs": [
    {
     "name": "stdout",
     "output_type": "stream",
     "text": [
      "Input: <start> aku lagih mandai <end>\n",
      "Predicted translation: aku sedang berusaha <end> \n"
     ]
    },
    {
     "name": "stderr",
     "output_type": "stream",
     "text": [
      "C:\\Users\\caesa\\AppData\\Local\\Temp\\ipykernel_25448\\2979653732.py:10: UserWarning: FixedFormatter should only be used together with FixedLocator\n",
      "  ax.set_xticklabels([''] + sentence, fontdict=fontdict, rotation=90)\n",
      "C:\\Users\\caesa\\AppData\\Local\\Temp\\ipykernel_25448\\2979653732.py:11: UserWarning: FixedFormatter should only be used together with FixedLocator\n",
      "  ax.set_yticklabels([''] + predicted_sentence, fontdict=fontdict)\n"
     ]
    },
    {
     "data": {
      "image/png": "[encoded data removed]",
      "text/plain": [
       "<Figure size 720x720 with 1 Axes>"
      ]
     },
     "metadata": {
      "needs_background": "light"
     },
     "output_type": "display_data"
    }
   ],
   "source": [
    "translate(u'aku lagih mandai')"
   ]
  },
  {
   "cell_type": "code",
   "execution_count": 103,
   "metadata": {},
   "outputs": [],
   "source": [
    "#translate(u'que fais tu' )"
   ]
  },
  {
   "cell_type": "code",
   "execution_count": null,
   "metadata": {},
   "outputs": [],
   "source": []
  },
  {
   "cell_type": "code",
   "execution_count": null,
   "metadata": {},
   "outputs": [],
   "source": []
  },
  {
   "cell_type": "code",
   "execution_count": null,
   "metadata": {},
   "outputs": [],
   "source": []
  },
  {
   "cell_type": "code",
   "execution_count": null,
   "metadata": {},
   "outputs": [],
   "source": []
  },
  {
   "cell_type": "code",
   "execution_count": null,
   "metadata": {},
   "outputs": [],
   "source": []
  },
  {
   "cell_type": "code",
   "execution_count": null,
   "metadata": {},
   "outputs": [],
   "source": []
  },
  {
   "cell_type": "code",
   "execution_count": null,
   "metadata": {},
   "outputs": [],
   "source": []
  },
  {
   "cell_type": "code",
   "execution_count": null,
   "metadata": {},
   "outputs": [],
   "source": []
  },
  {
   "cell_type": "code",
   "execution_count": null,
   "metadata": {},
   "outputs": [],
   "source": []
  }
 ],
 "metadata": {
  "accelerator": "GPU",
  "colab": {
   "collapsed_sections": [],
   "name": "nmt (5).ipynb",
   "provenance": []
  },
  "kernelspec": {
   "display_name": "Python 3 (ipykernel)",
   "language": "python",
   "name": "python3"
  },
  "language_info": {
   "codemirror_mode": {
    "name": "ipython",
    "version": 3
   },
   "file_extension": ".py",
   "mimetype": "text/x-python",
   "name": "python",
   "nbconvert_exporter": "python",
   "pygments_lexer": "ipython3",
   "version": "3.8.7"
  }
 },
 "nbformat": 4,
 "nbformat_minor": 1
}
