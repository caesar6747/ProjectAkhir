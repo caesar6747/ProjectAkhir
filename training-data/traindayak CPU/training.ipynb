{
 "cells": [
  {
   "cell_type": "code",
   "execution_count": 1,
   "metadata": {
    "colab": {
     "base_uri": "https://localhost:8080/",
     "height": 51
    },
    "colab_type": "code",
    "id": "b6ZIUpwFih7a",
    "outputId": "3f00b5c8-d94c-4f2b-c0a4-0d80a4b9224a"
   },
   "outputs": [
    {
     "data": {
      "text/plain": [
       "\"\\nfrom google.colab import drive\\ndrive.mount('/gdrive')\\n%cd /gdrive\\n\""
      ]
     },
     "execution_count": 1,
     "metadata": {},
     "output_type": "execute_result"
    }
   ],
   "source": [
    "'''\n",
    "from google.colab import drive\n",
    "drive.mount('/gdrive')\n",
    "%cd /gdrive\n",
    "'''"
   ]
  },
  {
   "cell_type": "code",
   "execution_count": 2,
   "metadata": {
    "colab": {},
    "colab_type": "code",
    "id": "qQ7C1ecfiqcI"
   },
   "outputs": [],
   "source": [
    "import string\n",
    "import re\n",
    "import pickle\n",
    "from numpy import array, argmax, random, take\n",
    "import numpy as np\n",
    "import pandas as pd\n",
    "import tensorflow as tf\n",
    "#from tensorflow import keras\n",
    "from tensorflow.keras.layers import Dense, GRU, Embedding\n",
    "from tensorflow.compat.v1.keras.layers import CuDNNGRU\n",
    "from tensorflow.keras.preprocessing.text import Tokenizer\n",
    "from tensorflow.keras.callbacks import ModelCheckpoint\n",
    "#from keras.preprocessing.sequence import pad_sequences\n",
    "from tensorflow.keras.preprocessing.sequence import pad_sequences\n",
    "from tensorflow.keras import optimizers\n",
    "import matplotlib.pyplot as plt\n",
    "from sklearn.model_selection import train_test_split\n",
    "%matplotlib inline\n",
    "import unicodedata\n",
    "import io\n",
    "import os\n",
    "import time"
   ]
  },
  {
   "cell_type": "code",
   "execution_count": 3,
   "metadata": {
    "colab": {},
    "colab_type": "code",
    "id": "o88uz_9kmSxS"
   },
   "outputs": [],
   "source": [
    "#path_to_file = '/content/fra1.txt'\n",
    "#path_to_file = '/content/drive/My Drive/Colab Notebooks/fra1.txt'\n",
    "path_to_file = 'dayak.txt'"
   ]
  },
  {
   "cell_type": "code",
   "execution_count": 4,
   "metadata": {
    "colab": {},
    "colab_type": "code",
    "id": "7OB9IkJCm75L"
   },
   "outputs": [],
   "source": [
    "def unicode_to_acii(s):\n",
    "  return ''.join(c for c in unicodedata.normalize('NFD', s)\n",
    "        if unicodedata.category(c) != 'Mn')"
   ]
  },
  {
   "cell_type": "code",
   "execution_count": 5,
   "metadata": {
    "colab": {},
    "colab_type": "code",
    "id": "itS-QoVznJ64"
   },
   "outputs": [],
   "source": [
    "def preprocess_sentence(w):\n",
    "  w = unicode_to_acii(w.lower().strip())\n",
    "  w = re.sub(r\"([?.!,¿])\", r\" \\1 \", w)\n",
    "  w = re.sub(r'[\" \"]+', \" \", w)\n",
    "  w = re.sub(r\"[^a-zA-Z?.!,¿]+\", \" \", w)\n",
    "  w = w.strip()\n",
    "  w = '<start> ' + w + ' <end>'\n",
    "  return w"
   ]
  },
  {
   "cell_type": "code",
   "execution_count": 6,
   "metadata": {
    "colab": {
     "base_uri": "https://localhost:8080/",
     "height": 51
    },
    "colab_type": "code",
    "id": "RXJryIzrr_-s",
    "outputId": "ce3f3d99-96a0-4c55-a365-eaf9b1a47a42"
   },
   "outputs": [
    {
     "name": "stdout",
     "output_type": "stream",
     "text": [
      "<start> may i borrow this book ? <end>\n",
      "b'<start> puis je emprunter ce livre ? <end>'\n"
     ]
    }
   ],
   "source": [
    "en_sentence = u\"May I borrow this book?\"\n",
    "fr_sentence = u\"Puis-je emprunter ce livre?\"\n",
    "print(preprocess_sentence(en_sentence))\n",
    "print(preprocess_sentence(fr_sentence).encode('utf-8'))"
   ]
  },
  {
   "cell_type": "code",
   "execution_count": 7,
   "metadata": {
    "colab": {},
    "colab_type": "code",
    "id": "YWrJ3arQtBpY"
   },
   "outputs": [],
   "source": [
    "def create_dataset(path, num_examples):\n",
    "  lines = io.open(path, encoding='UTF-8').read().strip().split('\\n')\n",
    "\n",
    "  word_pairs = [[preprocess_sentence(w) for w in l.split('\\t')]  for l in lines[:num_examples]]\n",
    "\n",
    "  return zip(*word_pairs)"
   ]
  },
  {
   "cell_type": "code",
   "execution_count": 8,
   "metadata": {
    "colab": {
     "base_uri": "https://localhost:8080/",
     "height": 71
    },
    "colab_type": "code",
    "id": "uSPFRdBIt9eM",
    "outputId": "6b9c77bc-1a71-4aaa-b51c-2782379e7488"
   },
   "outputs": [
    {
     "name": "stdout",
     "output_type": "stream",
     "text": [
      "<start> apa kabar <end>\n",
      "<start> narai kabar <end>\n",
      "====\n",
      "<start> apa katanya <end>\n",
      "<start> narai kua <end>\n",
      "====\n",
      "<start> aku pulang <end>\n",
      "<start> aku buli <end>\n",
      "====\n",
      "<start> aku sedang belajar <end>\n",
      "<start> aku lagih belajar <end>\n",
      "====\n",
      "<start> aku mau makan <end>\n",
      "<start> aku handak kuman <end>\n",
      "====\n",
      "<start> aku datang <end>\n",
      "<start> aku dumah <end>\n",
      "====\n",
      "<start> aku pergi <end>\n",
      "<start> aku tulak <end>\n",
      "====\n",
      "<start> aku sudah menjawab pertanyaan <end>\n",
      "<start> aku jadi manjawab pertanyaan <end>\n",
      "====\n",
      "<start> aku suka kamu <end>\n",
      "<start> aku handak dengam <end>\n",
      "====\n"
     ]
    }
   ],
   "source": [
    "en, fr = create_dataset(path_to_file, None)\n",
    "for s in range(9):\n",
    "    print(en[s])\n",
    "    print(fr[s])\n",
    "    print('====')"
   ]
  },
  {
   "cell_type": "code",
   "execution_count": 9,
   "metadata": {
    "colab": {},
    "colab_type": "code",
    "id": "BGZ6n267uGC4"
   },
   "outputs": [],
   "source": [
    "def tokenize(lang):\n",
    "  lang_tokenizer = tf.keras.preprocessing.text.Tokenizer(\n",
    "      filters='')\n",
    "  lang_tokenizer.fit_on_texts(lang)\n",
    "\n",
    "  tensor = lang_tokenizer.texts_to_sequences(lang)\n",
    "\n",
    "  tensor = tf.keras.preprocessing.sequence.pad_sequences(tensor,\n",
    "                                                         padding='post')\n",
    "\n",
    "  return tensor, lang_tokenizer"
   ]
  },
  {
   "cell_type": "code",
   "execution_count": 10,
   "metadata": {
    "colab": {},
    "colab_type": "code",
    "id": "TQ8FB5U9y1jU"
   },
   "outputs": [],
   "source": [
    "def load_dataset(path, num_examples=None):\n",
    "  # creating cleaned input, output pairs\n",
    "  targ_lang, inp_lang = create_dataset(path, num_examples)\n",
    "  \n",
    "  input_tensor, inp_lang_tokenizer = tokenize(inp_lang)\n",
    "  target_tensor, targ_lang_tokenizer = tokenize(targ_lang)\n",
    "\n",
    "  return input_tensor, target_tensor, inp_lang_tokenizer, targ_lang_tokenizer"
   ]
  },
  {
   "cell_type": "code",
   "execution_count": 11,
   "metadata": {
    "colab": {},
    "colab_type": "code",
    "id": "7sWcBu21y3mn"
   },
   "outputs": [],
   "source": [
    "# Try experimenting with the size of that dataset\n",
    "num_examples = 2222\n",
    "input_tensor, target_tensor, inp_lang, targ_lang = load_dataset(path_to_file, num_examples)\n",
    "\n",
    "# Calculate max_length of the target tensors\n",
    "max_length_targ, max_length_inp = target_tensor.shape[1], input_tensor.shape[1]"
   ]
  },
  {
   "cell_type": "code",
   "execution_count": 12,
   "metadata": {},
   "outputs": [
    {
     "name": "stdout",
     "output_type": "stream",
     "text": [
      "<keras_preprocessing.text.Tokenizer object at 0x0000020AB1A032E0>\n"
     ]
    }
   ],
   "source": [
    "print(inp_lang)"
   ]
  },
  {
   "cell_type": "code",
   "execution_count": 13,
   "metadata": {},
   "outputs": [],
   "source": [
    "# saving\n",
    "with open('inp_lang.pickle', 'wb') as handle:\n",
    "    pickle.dump(inp_lang, handle, protocol=pickle.HIGHEST_PROTOCOL)\n",
    "\n",
    "with open('targ_lang.pickle', 'wb') as handle:\n",
    "    pickle.dump(targ_lang, handle, protocol=pickle.HIGHEST_PROTOCOL)\n",
    "\n",
    "# loading\n",
    "#with open('tokenizer.pickle', 'rb') as handle:\n",
    "#    tokenizer = pickle.load(handle)"
   ]
  },
  {
   "cell_type": "code",
   "execution_count": 14,
   "metadata": {
    "colab": {
     "base_uri": "https://localhost:8080/",
     "height": 34
    },
    "colab_type": "code",
    "id": "W3vexp6c_CCv",
    "outputId": "df371f70-1e51-4ba4-f4e7-0a7cb7100a2e"
   },
   "outputs": [
    {
     "name": "stdout",
     "output_type": "stream",
     "text": [
      "21 21\n"
     ]
    }
   ],
   "source": [
    "print(max_length_inp, max_length_targ)"
   ]
  },
  {
   "cell_type": "code",
   "execution_count": 15,
   "metadata": {
    "colab": {
     "base_uri": "https://localhost:8080/",
     "height": 34
    },
    "colab_type": "code",
    "id": "H87ixlDvzNz0",
    "outputId": "bd763137-dfcb-43a8-ca2f-ecb68b21739a"
   },
   "outputs": [
    {
     "name": "stdout",
     "output_type": "stream",
     "text": [
      "1999 1999 223 223\n"
     ]
    }
   ],
   "source": [
    "# Creating training and validation sets using an 80-20 split\n",
    "input_tensor_train, input_tensor_val, target_tensor_train, target_tensor_val = train_test_split(input_tensor, target_tensor, test_size = 0.1 )\n",
    "# Show length\n",
    "print(len(input_tensor_train), len(target_tensor_train), len(input_tensor_val), len(target_tensor_val))"
   ]
  },
  {
   "cell_type": "code",
   "execution_count": 16,
   "metadata": {},
   "outputs": [
    {
     "name": "stdout",
     "output_type": "stream",
     "text": [
      "(2222, 21)\n"
     ]
    }
   ],
   "source": [
    "print(input_tensor.shape)"
   ]
  },
  {
   "cell_type": "code",
   "execution_count": 17,
   "metadata": {
    "colab": {},
    "colab_type": "code",
    "id": "cwvATLwazTRZ"
   },
   "outputs": [],
   "source": [
    "def convert(lang, tensor):\n",
    "  for t in tensor:\n",
    "    if t!=0:\n",
    "      print (\"%d ----> %s\" % (t, lang.index_word[t]))"
   ]
  },
  {
   "cell_type": "code",
   "execution_count": 18,
   "metadata": {},
   "outputs": [
    {
     "name": "stdout",
     "output_type": "stream",
     "text": [
      "eka\n"
     ]
    }
   ],
   "source": [
    "print(inp_lang.index_word[345])"
   ]
  },
  {
   "cell_type": "code",
   "execution_count": 19,
   "metadata": {
    "colab": {
     "base_uri": "https://localhost:8080/",
     "height": 306
    },
    "colab_type": "code",
    "id": "qmOZS6-w9QFI",
    "outputId": "2a08dc60-3256-430e-eee5-99be15afbeb2",
    "scrolled": true
   },
   "outputs": [
    {
     "name": "stdout",
     "output_type": "stream",
     "text": [
      "Input Language; index to word mapping\n",
      "1 ----> <start>\n",
      "509 ----> pensil\n",
      "2 ----> <end>\n",
      "\n",
      "Target Language; index to word mapping\n",
      "1 ----> <start>\n",
      "515 ----> pensil\n",
      "2 ----> <end>\n"
     ]
    }
   ],
   "source": [
    "print (\"Input Language; index to word mapping\")\n",
    "convert(inp_lang, input_tensor_train[100])\n",
    "print ()\n",
    "print (\"Target Language; index to word mapping\")\n",
    "convert(targ_lang, target_tensor_train[100])"
   ]
  },
  {
   "cell_type": "code",
   "execution_count": 20,
   "metadata": {
    "colab": {
     "base_uri": "https://localhost:8080/",
     "height": 34
    },
    "colab_type": "code",
    "id": "PPT0A8Q-9VJE",
    "outputId": "f7401332-b294-4597-85a9-85b25da0cf7a"
   },
   "outputs": [
    {
     "name": "stdout",
     "output_type": "stream",
     "text": [
      "<BatchDataset shapes: ((2, 21), (2, 21)), types: (tf.int32, tf.int32)>\n"
     ]
    }
   ],
   "source": [
    "BUFFER_SIZE = len(input_tensor_train)\n",
    "BATCH_SIZE = 2\n",
    "steps_per_epoch = len(input_tensor_train)//BATCH_SIZE\n",
    "embedding_dim = 32\n",
    "units = 256\n",
    "vocab_inp_size = len(inp_lang.word_index)+1\n",
    "vocab_tar_size = len(targ_lang.word_index)+1\n",
    "\n",
    "dataset = tf.data.Dataset.from_tensor_slices((input_tensor_train, target_tensor_train)).shuffle(BUFFER_SIZE)\n",
    "dataset = dataset.batch(BATCH_SIZE, drop_remainder=True)\n",
    "print(dataset)"
   ]
  },
  {
   "cell_type": "code",
   "execution_count": 21,
   "metadata": {},
   "outputs": [
    {
     "name": "stdout",
     "output_type": "stream",
     "text": [
      "999\n"
     ]
    }
   ],
   "source": [
    "print(steps_per_epoch)"
   ]
  },
  {
   "cell_type": "code",
   "execution_count": 22,
   "metadata": {
    "colab": {
     "base_uri": "https://localhost:8080/",
     "height": 34
    },
    "colab_type": "code",
    "id": "YDk6DEoiDFsq",
    "outputId": "d948c61a-6e00-4153-8d5c-a8682c4b8c6d"
   },
   "outputs": [
    {
     "data": {
      "text/plain": [
       "(TensorShape([2, 21]), TensorShape([2, 21]))"
      ]
     },
     "execution_count": 22,
     "metadata": {},
     "output_type": "execute_result"
    }
   ],
   "source": [
    "input_batch, target_batch = next(iter(dataset))\n",
    "input_batch.shape, target_batch.shape"
   ]
  },
  {
   "cell_type": "code",
   "execution_count": 23,
   "metadata": {
    "colab": {},
    "colab_type": "code",
    "id": "4lDVlaVX_y4v"
   },
   "outputs": [],
   "source": [
    "def gru(units):\n",
    "  # If you have a GPU, we recommend using CuDNNGRU(provides a 3x speedup than GRU)\n",
    "  # the code automatically does that.\n",
    "  if tf.test.is_gpu_available():\n",
    "    print('cuDNNGRU is Used')\n",
    "    return GRU(units, return_sequences=True, \n",
    "                           return_state=True, \n",
    "                           recurrent_initializer='glorot_uniform')\n",
    "  else:\n",
    "    print('GRU is used')\n",
    "    return GRU(units, return_sequences=True, \n",
    "                      return_state=True, \n",
    "                      recurrent_activation='sigmoid', \n",
    "                      recurrent_initializer='glorot_uniform')"
   ]
  },
  {
   "cell_type": "code",
   "execution_count": 24,
   "metadata": {
    "colab": {},
    "colab_type": "code",
    "id": "teK1YcA2DtVR"
   },
   "outputs": [],
   "source": [
    "class Encoder(tf.keras.Model):\n",
    "  def __init__(self, vocab_size, embedding_dim, enc_units, batch_sz):\n",
    "    super(Encoder, self).__init__()\n",
    "    self.batch_sz = batch_sz\n",
    "    self.enc_units = enc_units\n",
    "    self.embedding = tf.keras.layers.Embedding(vocab_size, embedding_dim)\n",
    "    self.gru = GRU(self.enc_units,\n",
    "                                   return_sequences=True,\n",
    "                                   return_state=True,\n",
    "                                   recurrent_initializer='glorot_uniform')\n",
    "\n",
    "  def call(self, x, hidden):\n",
    "    x = self.embedding(x)\n",
    "    output, state = self.gru(x, initial_state = hidden)\n",
    "    return output, state\n",
    "\n",
    "  def initialize_hidden_state(self):\n",
    "    return tf.zeros((self.batch_sz, self.enc_units))"
   ]
  },
  {
   "cell_type": "code",
   "execution_count": 25,
   "metadata": {
    "colab": {},
    "colab_type": "code",
    "id": "wpnPUiV48cca"
   },
   "outputs": [],
   "source": [
    "class BahdanauAttention(tf.keras.layers.Layer):\n",
    "  def __init__(self, units):\n",
    "    super(BahdanauAttention, self).__init__()\n",
    "    self.W1 = tf.keras.layers.Dense(units)\n",
    "    self.W2 = tf.keras.layers.Dense(units)\n",
    "    self.V = tf.keras.layers.Dense(1)\n",
    "\n",
    "  def call(self, query, values):\n",
    "    # query hidden state shape == (batch_size, hidden size)\n",
    "    # query_with_time_axis shape == (batch_size, 1, hidden size)\n",
    "    # values shape == (batch_size, max_len, hidden size)\n",
    "    # we are doing this to broadcast addition along the time axis to calculate the score\n",
    "    query_with_time_axis = tf.expand_dims(query, 1)\n",
    "\n",
    "    # score shape == (batch_size, max_length, 1)\n",
    "    # we get 1 at the last axis because we are applying score to self.V\n",
    "    # the shape of the tensor before applying self.V is (batch_size, max_length, units)\n",
    "    score = self.V(tf.nn.tanh(\n",
    "        self.W1(query_with_time_axis) + self.W2(values)))\n",
    "\n",
    "    # attention_weights shape == (batch_size, max_length, 1)\n",
    "    attention_weights = tf.nn.softmax(score, axis=1)\n",
    "\n",
    "    # context_vector shape after sum == (batch_size, hidden_size)\n",
    "    context_vector = attention_weights * values\n",
    "    context_vector = tf.reduce_sum(context_vector, axis=1)\n",
    "\n",
    "    return context_vector, attention_weights\n",
    "\n",
    "attention_layer = BahdanauAttention(10)"
   ]
  },
  {
   "cell_type": "code",
   "execution_count": 26,
   "metadata": {
    "colab": {
     "base_uri": "https://localhost:8080/",
     "height": 54
    },
    "colab_type": "code",
    "id": "mUrLM-bRf57y",
    "outputId": "be1cffe3-6e49-4d71-8e86-5124a30af71a"
   },
   "outputs": [],
   "source": [
    "class Decoder(tf.keras.Model):\n",
    "    def __init__(self, vocab_size, embedding_dim, dec_units, batch_sz):\n",
    "        super(Decoder, self).__init__()\n",
    "        self.batch_sz = batch_sz\n",
    "        self.dec_units = dec_units\n",
    "        self.embedding = tf.keras.layers.Embedding(vocab_size, embedding_dim)\n",
    "        self.gru = gru(self.dec_units)\n",
    "        self.fc = tf.keras.layers.Dense(vocab_size)\n",
    "        \n",
    "        # used for attention\n",
    "        self.W1 = tf.keras.layers.Dense(self.dec_units)\n",
    "        self.W2 = tf.keras.layers.Dense(self.dec_units)\n",
    "        self.V = tf.keras.layers.Dense(1)\n",
    "        \n",
    "    def call(self, x, hidden, enc_output):\n",
    "        hidden_with_time_axis = tf.expand_dims(hidden, 1)\n",
    "\n",
    "        score = tf.nn.tanh(self.W1(enc_output) + self.W2(hidden_with_time_axis))\n",
    "        attention_weights = tf.nn.softmax(self.V(score), axis=1)\n",
    "        context_vector = attention_weights * enc_output\n",
    "        context_vector = tf.reduce_sum(context_vector, axis=1)\n",
    "        \n",
    "        x = self.embedding(x)\n",
    "        x = tf.concat([tf.expand_dims(context_vector, 1), x], axis=-1)\n",
    "        output, state = self.gru(x)\n",
    "        output = tf.reshape(output, (-1, output.shape[2]))\n",
    "        \n",
    "        # output shape == (batch_size * max_length, vocab)\n",
    "        x = self.fc(output)\n",
    "        \n",
    "        return x, state, attention_weights\n",
    "        \n",
    "    def initialize_hidden_state(self):\n",
    "        return tf.zeros((self.batch_sz, self.dec_units))\n",
    "        "
   ]
  },
  {
   "cell_type": "code",
   "execution_count": 27,
   "metadata": {
    "colab": {},
    "colab_type": "code",
    "id": "K7dYaBu78pfU"
   },
   "outputs": [
    {
     "data": {
      "text/plain": [
       "\"class Decoder(tf.keras.Model):\\n  def __init__(self, vocab_size, embedding_dim, dec_units, batch_sz):\\n    super(Decoder, self).__init__()\\n    self.batch_sz = batch_sz\\n    self.dec_units = dec_units\\n    self.embedding = tf.keras.layers.Embedding(vocab_size, embedding_dim)\\n    self.gru = tf.keras.layers.GRU(self.dec_units,\\n                                   return_sequences=True,\\n                                   return_state=True,\\n                                   recurrent_initializer='glorot_uniform')\\n    self.fc = tf.keras.layers.Dense(vocab_size)\\n\\n    # used for attention\\n    self.attention = BahdanauAttention(self.dec_units)\\n\\n  def call(self, x, hidden, enc_output):\\n    # enc_output shape == (batch_size, max_length, hidden_size)\\n    context_vector, attention_weights = self.attention(hidden, enc_output)\\n\\n    # x shape after passing through embedding == (batch_size, 1, embedding_dim)\\n    x = self.embedding(x)\\n\\n    # x shape after concatenation == (batch_size, 1, embedding_dim + hidden_size)\\n    x = tf.concat([tf.expand_dims(context_vector, 1), x], axis=-1)\\n\\n    # passing the concatenated vector to the GRU\\n    output, state = self.gru(x)\\n\\n    # output shape == (batch_size * 1, hidden_size)\\n    output = tf.reshape(output, (-1, output.shape[2]))\\n\\n    # output shape == (batch_size, vocab)\\n    x = self.fc(output)\\n\\n    return x, state, attention_weights\\n\""
      ]
     },
     "execution_count": 27,
     "metadata": {},
     "output_type": "execute_result"
    }
   ],
   "source": [
    "'''class Decoder(tf.keras.Model):\n",
    "  def __init__(self, vocab_size, embedding_dim, dec_units, batch_sz):\n",
    "    super(Decoder, self).__init__()\n",
    "    self.batch_sz = batch_sz\n",
    "    self.dec_units = dec_units\n",
    "    self.embedding = tf.keras.layers.Embedding(vocab_size, embedding_dim)\n",
    "    self.gru = tf.keras.layers.GRU(self.dec_units,\n",
    "                                   return_sequences=True,\n",
    "                                   return_state=True,\n",
    "                                   recurrent_initializer='glorot_uniform')\n",
    "    self.fc = tf.keras.layers.Dense(vocab_size)\n",
    "\n",
    "    # used for attention\n",
    "    self.attention = BahdanauAttention(self.dec_units)\n",
    "\n",
    "  def call(self, x, hidden, enc_output):\n",
    "    # enc_output shape == (batch_size, max_length, hidden_size)\n",
    "    context_vector, attention_weights = self.attention(hidden, enc_output)\n",
    "\n",
    "    # x shape after passing through embedding == (batch_size, 1, embedding_dim)\n",
    "    x = self.embedding(x)\n",
    "\n",
    "    # x shape after concatenation == (batch_size, 1, embedding_dim + hidden_size)\n",
    "    x = tf.concat([tf.expand_dims(context_vector, 1), x], axis=-1)\n",
    "\n",
    "    # passing the concatenated vector to the GRU\n",
    "    output, state = self.gru(x)\n",
    "\n",
    "    # output shape == (batch_size * 1, hidden_size)\n",
    "    output = tf.reshape(output, (-1, output.shape[2]))\n",
    "\n",
    "    # output shape == (batch_size, vocab)\n",
    "    x = self.fc(output)\n",
    "\n",
    "    return x, state, attention_weights\n",
    "'''"
   ]
  },
  {
   "cell_type": "code",
   "execution_count": 28,
   "metadata": {
    "colab": {},
    "colab_type": "code",
    "id": "JkHzbiweBBKn",
    "scrolled": true
   },
   "outputs": [
    {
     "name": "stdout",
     "output_type": "stream",
     "text": [
      "WARNING:tensorflow:From C:\\Users\\caesa\\AppData\\Local\\Temp\\ipykernel_16964\\481552359.py:4: is_gpu_available (from tensorflow.python.framework.test_util) is deprecated and will be removed in a future version.\n",
      "Instructions for updating:\n",
      "Use `tf.config.list_physical_devices('GPU')` instead.\n",
      "cuDNNGRU is Used\n"
     ]
    }
   ],
   "source": [
    "encoder = Encoder(vocab_inp_size, embedding_dim, units, BATCH_SIZE)\n",
    "decoder = Decoder(vocab_tar_size, embedding_dim, units, BATCH_SIZE)"
   ]
  },
  {
   "cell_type": "code",
   "execution_count": 29,
   "metadata": {
    "colab": {},
    "colab_type": "code",
    "id": "oCv0X9CPBMta"
   },
   "outputs": [],
   "source": [
    "optimizer = tf.keras.optimizers.Adam()\n",
    "loss_object = tf.keras.losses.SparseCategoricalCrossentropy(\n",
    "    from_logits=True, reduction='none')\n",
    "\n",
    "def loss_function(real, pred):\n",
    "  mask = tf.math.logical_not(tf.math.equal(real, 0))\n",
    "  loss_ = loss_object(real, pred)\n",
    "\n",
    "  mask = tf.cast(mask, dtype=loss_.dtype)\n",
    "  loss_ *= mask\n",
    "\n",
    "  return tf.reduce_mean(loss_)"
   ]
  },
  {
   "cell_type": "code",
   "execution_count": 30,
   "metadata": {
    "colab": {},
    "colab_type": "code",
    "id": "ABtres4SNtUx"
   },
   "outputs": [],
   "source": [
    "checkpoint_dir = './training_checkpointss'\n",
    "checkpoint_prefix = os.path.join(checkpoint_dir, \"ckpt\")\n",
    "checkpoint = tf.train.Checkpoint(optimizer=optimizer,\n",
    "                                 encoder=encoder,\n",
    "                                 decoder=decoder)"
   ]
  },
  {
   "cell_type": "code",
   "execution_count": 31,
   "metadata": {
    "colab": {},
    "colab_type": "code",
    "id": "XHatiEnCD4bO"
   },
   "outputs": [],
   "source": [
    "@tf.function\n",
    "def train_step(inp, targ, enc_hidden):\n",
    "  loss = 0\n",
    "\n",
    "  with tf.GradientTape() as tape:\n",
    "    enc_output, enc_hidden = encoder(inp, enc_hidden)\n",
    "\n",
    "    dec_hidden = enc_hidden\n",
    "\n",
    "    dec_input = tf.expand_dims([targ_lang.word_index['<start>']] * BATCH_SIZE, 1)\n",
    "\n",
    "    # Teacher forcing - feeding the target as the next input\n",
    "    for t in range(1, targ.shape[1]):\n",
    "      # passing enc_output to the decoder\n",
    "      predictions, dec_hidden, _ = decoder(dec_input, dec_hidden, enc_output)\n",
    "\n",
    "      loss += loss_function(targ[:, t], predictions)\n",
    "\n",
    "      # using teacher forcing\n",
    "      dec_input = tf.expand_dims(targ[:, t], 1)\n",
    "\n",
    "  batch_loss = (loss / int(targ.shape[1]))\n",
    "\n",
    "  variables = encoder.trainable_variables + decoder.trainable_variables\n",
    "\n",
    "  gradients = tape.gradient(loss, variables)\n",
    "\n",
    "  optimizer.apply_gradients(zip(gradients, variables))\n",
    "\n",
    "  return batch_loss"
   ]
  },
  {
   "cell_type": "code",
   "execution_count": 32,
   "metadata": {
    "colab": {
     "base_uri": "https://localhost:8080/",
     "height": 1000
    },
    "colab_type": "code",
    "id": "t84vbnHTExZI",
    "outputId": "8f173d05-b9ca-4e5c-a136-e8ca09f14dce"
   },
   "outputs": [
    {
     "name": "stdout",
     "output_type": "stream",
     "text": [
      "Epoch 1 Batch 0 Loss 0.6711\n",
      "Time taken for 1 batch 25.005852460861206 sec\n",
      "\n",
      "Epoch 1 Batch 100 Loss 0.5413\n",
      "Time taken for 1 batch 33.06681752204895 sec\n",
      "\n",
      "Epoch 1 Batch 200 Loss 0.5506\n",
      "Time taken for 1 batch 40.8688178062439 sec\n",
      "\n",
      "Epoch 1 Batch 300 Loss 0.7310\n",
      "Time taken for 1 batch 48.86310434341431 sec\n",
      "\n",
      "Epoch 1 Batch 400 Loss 1.0351\n",
      "Time taken for 1 batch 56.1061646938324 sec\n",
      "\n",
      "Epoch 1 Batch 500 Loss 0.3641\n",
      "Time taken for 1 batch 63.600616216659546 sec\n",
      "\n",
      "Epoch 1 Batch 600 Loss 0.3470\n",
      "Time taken for 1 batch 71.161616563797 sec\n",
      "\n",
      "Epoch 1 Batch 700 Loss 0.5354\n",
      "Time taken for 1 batch 78.89620780944824 sec\n",
      "\n",
      "Epoch 1 Batch 800 Loss 0.5538\n",
      "Time taken for 1 batch 86.58321785926819 sec\n",
      "\n",
      "Epoch 1 Batch 900 Loss 0.3806\n",
      "Time taken for 1 batch 94.96574187278748 sec\n",
      "\n",
      "Epoch 1 Loss 0.7190\n",
      "Time taken for 1 epoch 103.09934163093567 sec\n",
      "\n",
      "Epoch 2 Batch 0 Loss 0.3315\n",
      "Time taken for 1 batch 0.09894132614135742 sec\n",
      "\n",
      "Epoch 2 Batch 100 Loss 0.5345\n",
      "Time taken for 1 batch 8.953951358795166 sec\n",
      "\n",
      "Epoch 2 Batch 200 Loss 0.6206\n",
      "Time taken for 1 batch 17.366942167282104 sec\n",
      "\n",
      "Epoch 2 Batch 300 Loss 0.4982\n",
      "Time taken for 1 batch 26.931060552597046 sec\n",
      "\n",
      "Epoch 2 Batch 400 Loss 0.4642\n",
      "Time taken for 1 batch 35.47494626045227 sec\n",
      "\n",
      "Epoch 2 Batch 500 Loss 0.3892\n",
      "Time taken for 1 batch 44.31794738769531 sec\n",
      "\n",
      "Epoch 2 Batch 600 Loss 0.4315\n",
      "Time taken for 1 batch 53.04094457626343 sec\n",
      "\n",
      "Epoch 2 Batch 700 Loss 0.9617\n",
      "Time taken for 1 batch 63.6510865688324 sec\n",
      "\n",
      "Epoch 2 Batch 800 Loss 0.5901\n",
      "Time taken for 1 batch 72.5710859298706 sec\n",
      "\n",
      "Epoch 2 Batch 900 Loss 0.6544\n",
      "Time taken for 1 batch 81.11413025856018 sec\n",
      "\n",
      "Epoch 2 Loss 0.6193\n",
      "Time taken for 1 epoch 89.31617856025696 sec\n",
      "\n",
      "Epoch 3 Batch 0 Loss 0.6223\n",
      "Time taken for 1 batch 0.07999920845031738 sec\n",
      "\n",
      "Epoch 3 Batch 100 Loss 0.2848\n",
      "Time taken for 1 batch 8.862952709197998 sec\n",
      "\n",
      "Epoch 3 Batch 200 Loss 0.4579\n",
      "Time taken for 1 batch 17.770952939987183 sec\n",
      "\n",
      "Epoch 3 Batch 300 Loss 0.4517\n",
      "Time taken for 1 batch 26.701956748962402 sec\n",
      "\n",
      "Epoch 3 Batch 400 Loss 0.6579\n",
      "Time taken for 1 batch 36.163650035858154 sec\n",
      "\n",
      "Epoch 3 Batch 500 Loss 0.2718\n",
      "Time taken for 1 batch 45.39620113372803 sec\n",
      "\n",
      "Epoch 3 Batch 600 Loss 0.3493\n",
      "Time taken for 1 batch 54.85419988632202 sec\n",
      "\n",
      "Epoch 3 Batch 700 Loss 0.5545\n",
      "Time taken for 1 batch 71.4759452342987 sec\n",
      "\n",
      "Epoch 3 Batch 800 Loss 0.6516\n",
      "Time taken for 1 batch 85.26505184173584 sec\n",
      "\n",
      "Epoch 3 Batch 900 Loss 0.6082\n",
      "Time taken for 1 batch 98.97010660171509 sec\n",
      "\n",
      "Epoch 3 Loss 0.5567\n",
      "Time taken for 1 epoch 111.59943175315857 sec\n",
      "\n",
      "Epoch 4 Batch 0 Loss 0.4199\n",
      "Time taken for 1 batch 0.08098649978637695 sec\n",
      "\n",
      "Epoch 4 Batch 100 Loss 0.3764\n",
      "Time taken for 1 batch 11.671459913253784 sec\n",
      "\n",
      "Epoch 4 Batch 200 Loss 0.3095\n",
      "Time taken for 1 batch 22.957693815231323 sec\n",
      "\n",
      "Epoch 4 Batch 300 Loss 0.4379\n",
      "Time taken for 1 batch 37.34674406051636 sec\n",
      "\n",
      "Epoch 4 Batch 400 Loss 0.5977\n",
      "Time taken for 1 batch 55.385517835617065 sec\n",
      "\n",
      "Epoch 4 Batch 500 Loss 0.9939\n",
      "Time taken for 1 batch 73.38875150680542 sec\n",
      "\n",
      "Epoch 4 Batch 600 Loss 0.2719\n",
      "Time taken for 1 batch 91.33754587173462 sec\n",
      "\n",
      "Epoch 4 Batch 700 Loss 0.6258\n",
      "Time taken for 1 batch 107.64358854293823 sec\n",
      "\n",
      "Epoch 4 Batch 800 Loss 0.6814\n",
      "Time taken for 1 batch 123.07810401916504 sec\n",
      "\n",
      "Epoch 4 Batch 900 Loss 0.3106\n",
      "Time taken for 1 batch 137.4806981086731 sec\n",
      "\n",
      "Epoch 4 Loss 0.5042\n",
      "Time taken for 1 epoch 152.35252976417542 sec\n",
      "\n",
      "Epoch 5 Batch 0 Loss 0.2298\n",
      "Time taken for 1 batch 0.18901824951171875 sec\n",
      "\n",
      "Epoch 5 Batch 100 Loss 0.2992\n",
      "Time taken for 1 batch 14.031001806259155 sec\n",
      "\n",
      "Epoch 5 Batch 200 Loss 0.2630\n",
      "Time taken for 1 batch 28.02254891395569 sec\n",
      "\n",
      "Epoch 5 Batch 300 Loss 0.3521\n",
      "Time taken for 1 batch 41.74446940422058 sec\n",
      "\n",
      "Epoch 5 Batch 400 Loss 0.6552\n",
      "Time taken for 1 batch 55.441996812820435 sec\n",
      "\n",
      "Epoch 5 Batch 500 Loss 0.3993\n",
      "Time taken for 1 batch 70.31281447410583 sec\n",
      "\n",
      "Epoch 5 Batch 600 Loss 0.2374\n",
      "Time taken for 1 batch 84.43681001663208 sec\n",
      "\n",
      "Epoch 5 Batch 700 Loss 0.2459\n",
      "Time taken for 1 batch 96.75481247901917 sec\n",
      "\n",
      "Epoch 5 Batch 800 Loss 0.2946\n",
      "Time taken for 1 batch 109.52444195747375 sec\n",
      "\n",
      "Epoch 5 Batch 900 Loss 0.4714\n",
      "Time taken for 1 batch 122.83422422409058 sec\n",
      "\n",
      "Epoch 5 Loss 0.4558\n",
      "Time taken for 1 epoch 135.4645779132843 sec\n",
      "\n",
      "Epoch 6 Batch 0 Loss 0.1985\n",
      "Time taken for 1 batch 0.07856035232543945 sec\n",
      "\n",
      "Epoch 6 Batch 100 Loss 0.3299\n",
      "Time taken for 1 batch 11.245988607406616 sec\n",
      "\n",
      "Epoch 6 Batch 200 Loss 0.7171\n",
      "Time taken for 1 batch 22.494367122650146 sec\n",
      "\n",
      "Epoch 6 Batch 300 Loss 0.2292\n",
      "Time taken for 1 batch 33.55328941345215 sec\n",
      "\n",
      "Epoch 6 Batch 400 Loss 0.3166\n",
      "Time taken for 1 batch 44.12720990180969 sec\n",
      "\n",
      "Epoch 6 Batch 500 Loss 0.3652\n",
      "Time taken for 1 batch 54.457566261291504 sec\n",
      "\n",
      "Epoch 6 Batch 600 Loss 0.4663\n",
      "Time taken for 1 batch 64.83469223976135 sec\n",
      "\n",
      "Epoch 6 Batch 700 Loss 0.9418\n",
      "Time taken for 1 batch 75.22672152519226 sec\n",
      "\n",
      "Epoch 6 Batch 800 Loss 0.3754\n",
      "Time taken for 1 batch 85.70963740348816 sec\n",
      "\n",
      "Epoch 6 Batch 900 Loss 0.6640\n",
      "Time taken for 1 batch 95.94694662094116 sec\n",
      "\n",
      "Epoch 6 Loss 0.4184\n",
      "Time taken for 1 epoch 106.14832901954651 sec\n",
      "\n",
      "Epoch 7 Batch 0 Loss 0.5799\n",
      "Time taken for 1 batch 0.1411454677581787 sec\n",
      "\n",
      "Epoch 7 Batch 100 Loss 0.3531\n",
      "Time taken for 1 batch 10.403385400772095 sec\n",
      "\n",
      "Epoch 7 Batch 200 Loss 0.2706\n",
      "Time taken for 1 batch 20.6332528591156 sec\n",
      "\n",
      "Epoch 7 Batch 300 Loss 0.5314\n",
      "Time taken for 1 batch 30.944039344787598 sec\n",
      "\n",
      "Epoch 7 Batch 400 Loss 0.4819\n",
      "Time taken for 1 batch 41.14293360710144 sec\n",
      "\n",
      "Epoch 7 Batch 500 Loss 0.2012\n",
      "Time taken for 1 batch 51.81469106674194 sec\n",
      "\n",
      "Epoch 7 Batch 600 Loss 0.7720\n",
      "Time taken for 1 batch 61.82034730911255 sec\n",
      "\n",
      "Epoch 7 Batch 700 Loss 0.2363\n",
      "Time taken for 1 batch 71.67846345901489 sec\n",
      "\n",
      "Epoch 7 Batch 800 Loss 0.5709\n",
      "Time taken for 1 batch 81.54620099067688 sec\n",
      "\n",
      "Epoch 7 Batch 900 Loss 0.4192\n",
      "Time taken for 1 batch 91.52022552490234 sec\n",
      "\n",
      "Epoch 7 Loss 0.3808\n",
      "Time taken for 1 epoch 101.40050983428955 sec\n",
      "\n",
      "Epoch 8 Batch 0 Loss 0.2059\n",
      "Time taken for 1 batch 0.11839127540588379 sec\n",
      "\n",
      "Epoch 8 Batch 100 Loss 0.3702\n",
      "Time taken for 1 batch 9.966036558151245 sec\n",
      "\n",
      "Epoch 8 Batch 200 Loss 0.3277\n",
      "Time taken for 1 batch 20.499072313308716 sec\n",
      "\n",
      "Epoch 8 Batch 300 Loss 0.4398\n",
      "Time taken for 1 batch 30.436832904815674 sec\n",
      "\n",
      "Epoch 8 Batch 400 Loss 0.3657\n",
      "Time taken for 1 batch 39.95505714416504 sec\n",
      "\n",
      "Epoch 8 Batch 500 Loss 0.6901\n",
      "Time taken for 1 batch 49.92894697189331 sec\n",
      "\n",
      "Epoch 8 Batch 600 Loss 0.3830\n",
      "Time taken for 1 batch 60.04314398765564 sec\n",
      "\n",
      "Epoch 8 Batch 700 Loss 0.3016\n",
      "Time taken for 1 batch 69.3830087184906 sec\n",
      "\n",
      "Epoch 8 Batch 800 Loss 0.2430\n",
      "Time taken for 1 batch 79.17121458053589 sec\n",
      "\n",
      "Epoch 8 Batch 900 Loss 0.3038\n",
      "Time taken for 1 batch 88.91112542152405 sec\n",
      "\n",
      "Epoch 8 Loss 0.3458\n",
      "Time taken for 1 epoch 98.21097040176392 sec\n",
      "\n",
      "Epoch 9 Batch 0 Loss 0.2371\n",
      "Time taken for 1 batch 0.07853055000305176 sec\n",
      "\n",
      "Epoch 9 Batch 100 Loss 0.1232\n",
      "Time taken for 1 batch 9.691380977630615 sec\n",
      "\n",
      "Epoch 9 Batch 200 Loss 0.3866\n",
      "Time taken for 1 batch 19.010902643203735 sec\n",
      "\n",
      "Epoch 9 Batch 300 Loss 0.3216\n",
      "Time taken for 1 batch 28.616349935531616 sec\n",
      "\n",
      "Epoch 9 Batch 400 Loss 0.2629\n",
      "Time taken for 1 batch 38.214722633361816 sec\n",
      "\n",
      "Epoch 9 Batch 500 Loss 0.3502\n",
      "Time taken for 1 batch 47.52462911605835 sec\n",
      "\n",
      "Epoch 9 Batch 600 Loss 0.2095\n",
      "Time taken for 1 batch 57.0259473323822 sec\n",
      "\n",
      "Epoch 9 Batch 700 Loss 0.2347\n",
      "Time taken for 1 batch 66.36404752731323 sec\n",
      "\n",
      "Epoch 9 Batch 800 Loss 0.2462\n",
      "Time taken for 1 batch 75.66154670715332 sec\n",
      "\n",
      "Epoch 9 Batch 900 Loss 0.2354\n",
      "Time taken for 1 batch 84.77909755706787 sec\n",
      "\n",
      "Epoch 9 Loss 0.3126\n",
      "Time taken for 1 epoch 94.47292852401733 sec\n",
      "\n",
      "Epoch 10 Batch 0 Loss 0.2120\n",
      "Time taken for 1 batch 0.1559147834777832 sec\n",
      "\n",
      "Epoch 10 Batch 100 Loss 0.4935\n",
      "Time taken for 1 batch 9.382120370864868 sec\n",
      "\n",
      "Epoch 10 Batch 200 Loss 0.2286\n",
      "Time taken for 1 batch 18.641247272491455 sec\n",
      "\n",
      "Epoch 10 Batch 300 Loss 0.3131\n",
      "Time taken for 1 batch 28.166483640670776 sec\n",
      "\n",
      "Epoch 10 Batch 400 Loss 0.2626\n",
      "Time taken for 1 batch 37.42203426361084 sec\n",
      "\n",
      "Epoch 10 Batch 500 Loss 0.5286\n",
      "Time taken for 1 batch 46.75200533866882 sec\n",
      "\n",
      "Epoch 10 Batch 600 Loss 0.3843\n",
      "Time taken for 1 batch 56.1045138835907 sec\n",
      "\n",
      "Epoch 10 Batch 700 Loss 0.3436\n",
      "Time taken for 1 batch 65.50357580184937 sec\n",
      "\n",
      "Epoch 10 Batch 800 Loss 0.1472\n",
      "Time taken for 1 batch 74.86865282058716 sec\n",
      "\n",
      "Epoch 10 Batch 900 Loss 0.2239\n",
      "Time taken for 1 batch 84.12869596481323 sec\n",
      "\n"
     ]
    },
    {
     "name": "stdout",
     "output_type": "stream",
     "text": [
      "Epoch 10 Loss 0.2803\n",
      "Time taken for 1 epoch 93.29339575767517 sec\n",
      "\n"
     ]
    }
   ],
   "source": [
    "EPOCHS = 10\n",
    "\n",
    "for epoch in range(EPOCHS):\n",
    "  start = time.time()\n",
    "\n",
    "  enc_hidden = encoder.initialize_hidden_state()\n",
    "  total_loss = 0\n",
    "\n",
    "  for (batch, (inp, targ)) in enumerate(dataset.take(steps_per_epoch)):\n",
    "    batch_loss = train_step(inp, targ, enc_hidden)\n",
    "    total_loss = total_loss + batch_loss\n",
    "\n",
    "    if batch % 100 == 0:\n",
    "      print('Epoch {} Batch {} Loss {:.4f}'.format(epoch + 1,\n",
    "                                                   batch,\n",
    "                                                   batch_loss.numpy()))\n",
    "      print('Time taken for 1 batch {} sec\\n'.format(time.time() - start))\n",
    "  # saving (checkpoint) the model every 2 epochs\n",
    " # if (epoch + 1) % 2 == 0:\n",
    " #   checkpoint.save(file_prefix = checkpoint_prefix)\n",
    "\n",
    "  print('Epoch {} Loss {:.4f}'.format(epoch + 1,\n",
    "                                      total_loss / steps_per_epoch))\n",
    "  print('Time taken for 1 epoch {} sec\\n'.format(time.time() - start))\n"
   ]
  },
  {
   "cell_type": "code",
   "execution_count": 33,
   "metadata": {
    "colab": {},
    "colab_type": "code",
    "id": "hIbkNJWl750m"
   },
   "outputs": [],
   "source": [
    "#checkpoint.restore(tf.train.latest_checkpoint(checkpoint_dir))\n",
    "#checkpoint.save(file_prefix = checkpoint_prefix)"
   ]
  },
  {
   "cell_type": "code",
   "execution_count": 34,
   "metadata": {
    "colab": {},
    "colab_type": "code",
    "id": "KuFVut942Ko8"
   },
   "outputs": [],
   "source": [
    "def evaluate(sentence):\n",
    "  attention_plot = np.zeros((max_length_targ, max_length_inp))\n",
    "\n",
    "  sentence = preprocess_sentence(sentence)\n",
    "\n",
    "  inputs = [inp_lang.word_index[i] for i in sentence.split(' ')]\n",
    "  inputs = tf.keras.preprocessing.sequence.pad_sequences([inputs],\n",
    "                                                         maxlen=max_length_inp,\n",
    "                                                         padding='post')\n",
    "  inputs = tf.convert_to_tensor(inputs)\n",
    "\n",
    "  result = ''\n",
    "\n",
    "  hidden = [tf.zeros((1, units))]\n",
    "  enc_out, enc_hidden = encoder(inputs, hidden)\n",
    "\n",
    "  dec_hidden = enc_hidden\n",
    "  dec_input = tf.expand_dims([targ_lang.word_index['<start>']], 0)\n",
    "\n",
    "  for t in range(max_length_targ):\n",
    "    predictions, dec_hidden, attention_weights = decoder(dec_input,\n",
    "                                                         dec_hidden,\n",
    "                                                         enc_out)\n",
    "\n",
    "    # storing the attention weights to plot later on\n",
    "    attention_weights = tf.reshape(attention_weights, (-1, ))\n",
    "    attention_plot[t] = attention_weights.numpy()\n",
    "\n",
    "    predicted_id = tf.argmax(predictions[0]).numpy()\n",
    "\n",
    "    result += targ_lang.index_word[predicted_id] + ' '\n",
    "\n",
    "    if targ_lang.index_word[predicted_id] == '<end>':\n",
    "      return result, sentence, attention_plot\n",
    "\n",
    "    # the predicted ID is fed back into the model\n",
    "    dec_input = tf.expand_dims([predicted_id], 0)\n",
    "\n",
    "  return result, sentence, attention_plot"
   ]
  },
  {
   "cell_type": "code",
   "execution_count": 35,
   "metadata": {},
   "outputs": [
    {
     "data": {
      "text/plain": [
       "'./training_checkpointss\\\\ckpt-1'"
      ]
     },
     "execution_count": 35,
     "metadata": {},
     "output_type": "execute_result"
    }
   ],
   "source": [
    "checkpoint.save(file_prefix = checkpoint_prefix)"
   ]
  },
  {
   "cell_type": "code",
   "execution_count": 36,
   "metadata": {
    "colab": {},
    "colab_type": "code",
    "id": "nxNPS1aTNI-r"
   },
   "outputs": [],
   "source": [
    "# function for plotting the attention weights\n",
    "import matplotlib.ticker as ticker\n",
    "def plot_attention(attention, sentence, predicted_sentence):\n",
    "  fig = plt.figure(figsize=(10,10))\n",
    "  ax = fig.add_subplot(1, 1, 1)\n",
    "  ax.matshow(attention, cmap='viridis')\n",
    "\n",
    "  fontdict = {'fontsize': 14}\n",
    "\n",
    "  ax.set_xticklabels([''] + sentence, fontdict=fontdict, rotation=90)\n",
    "  ax.set_yticklabels([''] + predicted_sentence, fontdict=fontdict)\n",
    "\n",
    "  ax.xaxis.set_major_locator(ticker.MultipleLocator(1))\n",
    "  ax.yaxis.set_major_locator(ticker.MultipleLocator(1))\n",
    "\n",
    "  plt.show()"
   ]
  },
  {
   "cell_type": "code",
   "execution_count": 37,
   "metadata": {
    "colab": {},
    "colab_type": "code",
    "id": "-w3W6IfWxYD7"
   },
   "outputs": [],
   "source": [
    "def translate(sentence):\n",
    "  result, sentence, attention_plot = evaluate(sentence)\n",
    "\n",
    "  print('Input: %s' % (sentence))\n",
    "  print('Predicted translation: {}'.format(result))\n",
    "\n",
    "  attention_plot = attention_plot[:len(result.split(' ')), :len(sentence.split(' '))]\n",
    "  plot_attention(attention_plot, sentence.split(' '), result.split(' '))"
   ]
  },
  {
   "cell_type": "code",
   "execution_count": 38,
   "metadata": {
    "colab": {
     "base_uri": "https://localhost:8080/",
     "height": 675
    },
    "colab_type": "code",
    "id": "x00g29wuxicN",
    "outputId": "da066001-9d4e-4d45-f092-70f72311c3be",
    "scrolled": true
   },
   "outputs": [],
   "source": [
    "#translate(u'narai')"
   ]
  },
  {
   "cell_type": "code",
   "execution_count": 39,
   "metadata": {
    "colab": {
     "base_uri": "https://localhost:8080/",
     "height": 675
    },
    "colab_type": "code",
    "id": "xKZXcyVMxvTA",
    "outputId": "40f2926a-0580-46eb-b79e-6bf6eae8a52d"
   },
   "outputs": [
    {
     "name": "stdout",
     "output_type": "stream",
     "text": [
      "Input: <start> aku lagih mandai <end>\n",
      "Predicted translation: aku sayang padamu <end> \n"
     ]
    },
    {
     "name": "stderr",
     "output_type": "stream",
     "text": [
      "C:\\Users\\caesa\\AppData\\Local\\Temp\\ipykernel_16964\\2979653732.py:10: UserWarning: FixedFormatter should only be used together with FixedLocator\n",
      "  ax.set_xticklabels([''] + sentence, fontdict=fontdict, rotation=90)\n",
      "C:\\Users\\caesa\\AppData\\Local\\Temp\\ipykernel_16964\\2979653732.py:11: UserWarning: FixedFormatter should only be used together with FixedLocator\n",
      "  ax.set_yticklabels([''] + predicted_sentence, fontdict=fontdict)\n"
     ]
    },
    {
     "data": {
      "image/png": "[encoded data removed]",
      "text/plain": [
       "<Figure size 720x720 with 1 Axes>"
      ]
     },
     "metadata": {
      "needs_background": "light"
     },
     "output_type": "display_data"
    }
   ],
   "source": [
    "translate(u'narai kabar')"
   ]
  },
  {
   "cell_type": "code",
   "execution_count": 40,
   "metadata": {},
   "outputs": [],
   "source": [
    "#translate(u'que fais tu' )"
   ]
  },
  {
   "cell_type": "code",
   "execution_count": null,
   "metadata": {},
   "outputs": [],
   "source": []
  },
  {
   "cell_type": "code",
   "execution_count": null,
   "metadata": {},
   "outputs": [],
   "source": []
  },
  {
   "cell_type": "code",
   "execution_count": null,
   "metadata": {},
   "outputs": [],
   "source": []
  },
  {
   "cell_type": "code",
   "execution_count": null,
   "metadata": {},
   "outputs": [],
   "source": []
  },
  {
   "cell_type": "code",
   "execution_count": null,
   "metadata": {},
   "outputs": [],
   "source": []
  },
  {
   "cell_type": "code",
   "execution_count": null,
   "metadata": {},
   "outputs": [],
   "source": []
  },
  {
   "cell_type": "code",
   "execution_count": null,
   "metadata": {},
   "outputs": [],
   "source": []
  },
  {
   "cell_type": "code",
   "execution_count": null,
   "metadata": {},
   "outputs": [],
   "source": []
  },
  {
   "cell_type": "code",
   "execution_count": null,
   "metadata": {},
   "outputs": [],
   "source": []
  },
  {
   "cell_type": "code",
   "execution_count": null,
   "metadata": {},
   "outputs": [],
   "source": []
  }
 ],
 "metadata": {
  "accelerator": "GPU",
  "colab": {
   "collapsed_sections": [],
   "name": "nmt (5).ipynb",
   "provenance": []
  },
  "kernelspec": {
   "display_name": "Python 3 (ipykernel)",
   "language": "python",
   "name": "python3"
  },
  "language_info": {
   "codemirror_mode": {
    "name": "ipython",
    "version": 3
   },
   "file_extension": ".py",
   "mimetype": "text/x-python",
   "name": "python",
   "nbconvert_exporter": "python",
   "pygments_lexer": "ipython3",
   "version": "3.8.7"
  }
 },
 "nbformat": 4,
 "nbformat_minor": 1
}
